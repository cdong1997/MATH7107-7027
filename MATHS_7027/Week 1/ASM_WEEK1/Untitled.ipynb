{
 "cells": [
  {
   "cell_type": "markdown",
   "id": "aac13e73",
   "metadata": {},
   "source": [
    "<style>\n",
    ".example {\n",
    "  font-size: 20px;\n",
    "  font-family: Arial;\n",
    "}\n",
    "<center style =\"font-family : Computer Morden;\">Mathematical Foundations of Data Science</center>\n",
    "<center>Assignment 1</center>\n",
    "<p align=\"right\">Trimester 1, 2023</p>\n",
    "\n",
    "</style>\n"
   ]
  },
  {
   "cell_type": "markdown",
   "id": "ba6dab96",
   "metadata": {},
   "source": [
    "# <font face = \"Times New Roman\"><center>  Mathematical Foundations of Data Science </center> <center>Assignment 1</center> </font>\n",
    "#### <font face = \"Times New Roman\"> <p align=\"right\">Trimester 1, 2023 <br><br> Chang Dong (a1807402)</p> </font>"
   ]
  },
  {
   "cell_type": "markdown",
   "id": "4a50268d",
   "metadata": {},
   "source": [
    "**<font size = 4px face = \"Times New Roman\" > 1. Consider the function g whose graph is below</font>**"
   ]
  },
  {
   "cell_type": "markdown",
   "id": "872cf32d",
   "metadata": {},
   "source": [
    "<img src=\"fig1.png\" alt=\"Drawing\" style=\"width: 300px;\" align=\"center\"/>\n"
   ]
  },
  {
   "cell_type": "markdown",
   "id": "180978ef",
   "metadata": {},
   "source": [
    "<p style = \"line-height: 1.5\"><font size = 4px face = \"Times New Roman\",>(a) What is the domain of g?<br>\n",
    "<i>Answer: </i><br>The domain of g is $\\{x\\in R\\ |\\ -1 \\leqq x < 3 ,\\  3 < x \\leqq 5 \\}$.<br><br>\n",
    "(b) What is the range of g?<br>\n",
    "<i>Answer: </i><br>The domain of g is $\\{y\\in R\\ |\\ 0 < x \\leqq 4 \\}$.<br><br>\n",
    "(c) Is g a one-to-one function? Explain your answer.<br>\n",
    "<i>Answer: </i><br>No, because when $y \\in [1,2]$, it conresponds to two $x$ values.\n",
    "</font></p>"
   ]
  },
  {
   "cell_type": "markdown",
   "id": "627a8e03",
   "metadata": {},
   "source": [
    "**<p style=\"line-height: 1.5\">\n",
    "<font size = 4px face = \"Times New Roman\"> 2. In total, how much money do the people in Adelaide spend buying cups of coffee every year?<br>\n",
    "Note that you are not expected to get an exact answer! This is an exercise in <i>estimation</i> - there is no one correct number that will get you full marks. Rather, you must give a reasonable argument with plausible estimates following the principles presented in the course materials. You need to justify your assumptions and make it clear how you arrived at your answer.\n",
    "</font></p>**"
   ]
  },
  {
   "cell_type": "markdown",
   "id": "59e4ab44",
   "metadata": {},
   "source": [
    "<p style=\"line-height: 1.5\">\n",
    "<font size = 4px face = \"Times New Roman\"><i>Answer:</i><br> \n",
    "The price of one cup of coffee is around \\$5. 1 year equals around 50 weeks, and each week has 5 weekdays, so the total weekdays are around 250 days. Besides, there are around 10 public holidays, and people have legal anual leave which are around 30 days, so total holidays are around 50 days. Thus, total days people need to work are around 200 days. And I suppose that everyone will cosume 1 cup of coffee every working day.<br><br>So the total cost of one person is around $\\$5\\times200 = \\$1,000$.<br><br>As for the the total cost of all the people in Adelaide. There are around 1M people live in adelaide, I suppose that everyone comsumes coffee include little children and unemployed adult though it seems not correctly enough.<br><br>So the total cost of all the people in Adelaide is around $\\$1,000\\times1,000,000 = \\$1\\ Billion$\n",
    "</font></p>"
   ]
  },
  {
   "cell_type": "markdown",
   "id": "4949561f",
   "metadata": {},
   "source": [
    "**<p style=\"line-height: 1.5\">\n",
    "<font size = 4px face = \"Times New Roman\"> 3. Let $J = \\{ x ∈ N | −7 ≤ 3x − 4 < 9 \\}$ , $K = (0, 3]$, and $L = \\{ 0,1 /2, 3 \\}$ .\n",
    "</font></p>**\n"
   ]
  },
  {
   "cell_type": "markdown",
   "id": "6d96b9a3",
   "metadata": {},
   "source": [
    "<p style=\"line-height: 1.5\">\n",
    "<font size = 4px face = \"Times New Roman\">\n",
    "Determine the following, giving reasoning:<br><br>\n",
    "(a) $J ∩ K$<br>\n",
    "<i>Answer:</i><br> \n",
    "$J = \\{𝑥∈𝑁|−7≤3𝑥−4<9\\}\\ =\\ \\{𝑥∈𝑁|−1≤𝑥<4\\}\\ =\\ \\{0,1,2,3\\}$<br>\n",
    "$K = (0,3]$<br>\n",
    "Given that, $J ∩ K$ means the intersection between J set and K set, which is $\\{1,2,3\\}$<br><br>\n",
    "(b) $K$ \\ $L$<br>\n",
    "<i>Answer:</i><br> \n",
    "$K = (0,3]$<br>\n",
    "$L = \\{0,1/2,3\\}$<br>\n",
    "Given that, $K$ \\ $L$ means the elements in the part of K that not included in L, which is $\\{𝑥∈R|0<𝑥<1/2,1/2<x<3\\}$\n",
    " <br><br>\n",
    "</font></p>"
   ]
  },
  {
   "cell_type": "markdown",
   "id": "a55000c6",
   "metadata": {},
   "source": [
    "**<p style=\"line-height: 1.5\">\n",
    "<font size = 4px face = \"Times New Roman\">4. You should complete this question using a Jupyter Notebook. All of the code you will need to complete this question can be taken directly or generalised from the week 1 computer exercise, or will be given to you in the question.\n",
    "</font></p>**"
   ]
  },
  {
   "cell_type": "markdown",
   "id": "9be0488f",
   "metadata": {},
   "source": [
    "<p style=\"line-height: 1.5\">\n",
    "<font size = 4px face = \"Times New Roman\">\n",
    "Download the file movie data.csv from MyUni (this file comes from the imdb-5000-movie-dataset on Kaggle). Then use Python to do the following:<br><br>\n",
    "(a) Using pandas, read the data into a dataframe and print out its tail().</font></p>"
   ]
  },
  {
   "cell_type": "code",
   "execution_count": 1,
   "id": "f7055c9f",
   "metadata": {
    "scrolled": true
   },
   "outputs": [
    {
     "data": {
      "text/html": [
       "<div>\n",
       "<style scoped>\n",
       "    .dataframe tbody tr th:only-of-type {\n",
       "        vertical-align: middle;\n",
       "    }\n",
       "\n",
       "    .dataframe tbody tr th {\n",
       "        vertical-align: top;\n",
       "    }\n",
       "\n",
       "    .dataframe thead th {\n",
       "        text-align: right;\n",
       "    }\n",
       "</style>\n",
       "<table border=\"1\" class=\"dataframe\">\n",
       "  <thead>\n",
       "    <tr style=\"text-align: right;\">\n",
       "      <th></th>\n",
       "      <th>Unnamed: 0</th>\n",
       "      <th>duration</th>\n",
       "      <th>gross</th>\n",
       "      <th>genres</th>\n",
       "      <th>movie_title</th>\n",
       "      <th>num_voted_users</th>\n",
       "      <th>plot_keywords</th>\n",
       "      <th>movie_imdb_link</th>\n",
       "      <th>language</th>\n",
       "      <th>country</th>\n",
       "      <th>budget</th>\n",
       "      <th>title_year</th>\n",
       "      <th>imdb_score</th>\n",
       "    </tr>\n",
       "  </thead>\n",
       "  <tbody>\n",
       "    <tr>\n",
       "      <th>3885</th>\n",
       "      <td>5033</td>\n",
       "      <td>77</td>\n",
       "      <td>424760</td>\n",
       "      <td>Drama|Sci-Fi|Thriller</td>\n",
       "      <td>Primer</td>\n",
       "      <td>72639</td>\n",
       "      <td>changing the future|independent film|invention...</td>\n",
       "      <td>http://www.imdb.com/title/tt0390384/?ref_=fn_t...</td>\n",
       "      <td>English</td>\n",
       "      <td>USA</td>\n",
       "      <td>7000.0</td>\n",
       "      <td>2004</td>\n",
       "      <td>7.0</td>\n",
       "    </tr>\n",
       "    <tr>\n",
       "      <th>3886</th>\n",
       "      <td>5034</td>\n",
       "      <td>80</td>\n",
       "      <td>70071</td>\n",
       "      <td>Thriller</td>\n",
       "      <td>Cavite</td>\n",
       "      <td>589</td>\n",
       "      <td>jihad|mindanao|philippines|security guard|squa...</td>\n",
       "      <td>http://www.imdb.com/title/tt0428303/?ref_=fn_t...</td>\n",
       "      <td>English</td>\n",
       "      <td>Philippines</td>\n",
       "      <td>7000.0</td>\n",
       "      <td>2005</td>\n",
       "      <td>6.3</td>\n",
       "    </tr>\n",
       "    <tr>\n",
       "      <th>3887</th>\n",
       "      <td>5035</td>\n",
       "      <td>81</td>\n",
       "      <td>2040920</td>\n",
       "      <td>Action|Crime|Drama|Romance|Thriller</td>\n",
       "      <td>El Mariachi</td>\n",
       "      <td>52055</td>\n",
       "      <td>assassin|death|guitar|gun|mariachi</td>\n",
       "      <td>http://www.imdb.com/title/tt0104815/?ref_=fn_t...</td>\n",
       "      <td>Spanish</td>\n",
       "      <td>USA</td>\n",
       "      <td>7000.0</td>\n",
       "      <td>1992</td>\n",
       "      <td>6.9</td>\n",
       "    </tr>\n",
       "    <tr>\n",
       "      <th>3888</th>\n",
       "      <td>5037</td>\n",
       "      <td>95</td>\n",
       "      <td>4584</td>\n",
       "      <td>Comedy|Drama</td>\n",
       "      <td>Newlyweds</td>\n",
       "      <td>1338</td>\n",
       "      <td>written and directed by cast member</td>\n",
       "      <td>http://www.imdb.com/title/tt1880418/?ref_=fn_t...</td>\n",
       "      <td>English</td>\n",
       "      <td>USA</td>\n",
       "      <td>9000.0</td>\n",
       "      <td>2011</td>\n",
       "      <td>6.4</td>\n",
       "    </tr>\n",
       "    <tr>\n",
       "      <th>3889</th>\n",
       "      <td>5042</td>\n",
       "      <td>90</td>\n",
       "      <td>85222</td>\n",
       "      <td>Documentary</td>\n",
       "      <td>My Date with Drew</td>\n",
       "      <td>4285</td>\n",
       "      <td>actress name in title|crush|date|four word tit...</td>\n",
       "      <td>http://www.imdb.com/title/tt0378407/?ref_=fn_t...</td>\n",
       "      <td>English</td>\n",
       "      <td>USA</td>\n",
       "      <td>1100.0</td>\n",
       "      <td>2004</td>\n",
       "      <td>6.6</td>\n",
       "    </tr>\n",
       "  </tbody>\n",
       "</table>\n",
       "</div>"
      ],
      "text/plain": [
       "      Unnamed: 0  duration    gross                               genres  \\\n",
       "3885        5033        77   424760                Drama|Sci-Fi|Thriller   \n",
       "3886        5034        80    70071                             Thriller   \n",
       "3887        5035        81  2040920  Action|Crime|Drama|Romance|Thriller   \n",
       "3888        5037        95     4584                         Comedy|Drama   \n",
       "3889        5042        90    85222                          Documentary   \n",
       "\n",
       "             movie_title  num_voted_users  \\\n",
       "3885             Primer             72639   \n",
       "3886             Cavite               589   \n",
       "3887        El Mariachi             52055   \n",
       "3888          Newlyweds              1338   \n",
       "3889  My Date with Drew              4285   \n",
       "\n",
       "                                          plot_keywords  \\\n",
       "3885  changing the future|independent film|invention...   \n",
       "3886  jihad|mindanao|philippines|security guard|squa...   \n",
       "3887                 assassin|death|guitar|gun|mariachi   \n",
       "3888                written and directed by cast member   \n",
       "3889  actress name in title|crush|date|four word tit...   \n",
       "\n",
       "                                        movie_imdb_link language      country  \\\n",
       "3885  http://www.imdb.com/title/tt0390384/?ref_=fn_t...  English          USA   \n",
       "3886  http://www.imdb.com/title/tt0428303/?ref_=fn_t...  English  Philippines   \n",
       "3887  http://www.imdb.com/title/tt0104815/?ref_=fn_t...  Spanish          USA   \n",
       "3888  http://www.imdb.com/title/tt1880418/?ref_=fn_t...  English          USA   \n",
       "3889  http://www.imdb.com/title/tt0378407/?ref_=fn_t...  English          USA   \n",
       "\n",
       "      budget  title_year  imdb_score  \n",
       "3885  7000.0        2004         7.0  \n",
       "3886  7000.0        2005         6.3  \n",
       "3887  7000.0        1992         6.9  \n",
       "3888  9000.0        2011         6.4  \n",
       "3889  1100.0        2004         6.6  "
      ]
     },
     "execution_count": 1,
     "metadata": {},
     "output_type": "execute_result"
    }
   ],
   "source": [
    "import pandas as pd\n",
    "\n",
    "df = pd.read_csv(\"movie_data.csv\")\n",
    "df.tail()"
   ]
  },
  {
   "cell_type": "markdown",
   "id": "edba7dd4",
   "metadata": {},
   "source": [
    "<p style=\"line-height: 1.5\">\n",
    "<font size = 4px face = \"Times New Roman\">\n",
    "(b) Create a histogram of duration for all movies.<br>\n",
    "<i>Hint: Remember to add axis labels.</i></font></p>\n"
   ]
  },
  {
   "cell_type": "code",
   "execution_count": 2,
   "id": "74936106",
   "metadata": {},
   "outputs": [
    {
     "data": {
      "image/png": "[encoded data removed]",
      "text/plain": [
       "<Figure size 320x240 with 1 Axes>"
      ]
     },
     "metadata": {
      "needs_background": "light"
     },
     "output_type": "display_data"
    }
   ],
   "source": [
    "import matplotlib.pyplot as plt\n",
    "\n",
    "plt.figure(figsize=(4, 3), dpi=80)\n",
    "plt.hist(df.duration)\n",
    "plt.xlabel(\"duration/minutes\")\n",
    "plt.ylabel(\"count\")\n",
    "plt.title(\"Duration for all movies\")\n",
    "plt.show()"
   ]
  },
  {
   "cell_type": "markdown",
   "id": "24b6e793",
   "metadata": {},
   "source": [
    "<p style=\"line-height: 1.5\">\n",
    "<font size = 4px face = \"Times New Roman\">\n",
    "(c) Calculate the mean duration of all movies. Print out a statement showing the mean duration.<br>\n",
    "<i>Hint: In the week 1 computer exercise, we saw how to print out a line containing text and numbers.</i></font></p>\n"
   ]
  },
  {
   "cell_type": "code",
   "execution_count": 3,
   "id": "69be3f16",
   "metadata": {},
   "outputs": [
    {
     "name": "stdout",
     "output_type": "stream",
     "text": [
      "the mean duration of all movies is 109.9 minutes\n"
     ]
    }
   ],
   "source": [
    "mean_duration = df.duration.mean()\n",
    "print(\"the mean duration of all movies is {:.1f} minutes\".format(mean_duration))"
   ]
  },
  {
   "cell_type": "markdown",
   "id": "1b5ba12d",
   "metadata": {},
   "source": [
    "<p style=\"line-height: 1.5\">\n",
    "<font size = 4px face = \"Times New Roman\">\n",
    "(d) Among movies longer than 180 minutes, find the movie with the highest gross.<br>\n",
    "<i>Hint: Try creating a new dataframe that only contains movies with duration greater than 180.</i></font></p>"
   ]
  },
  {
   "cell_type": "code",
   "execution_count": 4,
   "id": "c28bd51e",
   "metadata": {
    "scrolled": true
   },
   "outputs": [
    {
     "name": "stdout",
     "output_type": "stream",
     "text": [
      "The movie longer than 180 minutes with the highest gross 658672302 is \"Titanic\"\n"
     ]
    }
   ],
   "source": [
    "df2 = df[df.duration > 180]\n",
    "df_gross_max = df2[df2.gross == df2.gross.max()]\n",
    "print(\"The movie longer than 180 minutes with the highest gross {} is \\\"{}\\\"\"\n",
    "      .format(df_gross_max[\"gross\"].values[0],df_gross_max[\"movie_title\"].values[0].strip()))"
   ]
  },
  {
   "cell_type": "markdown",
   "id": "d4380085",
   "metadata": {},
   "source": [
    "<p style=\"line-height: 1.5\">\n",
    "<font size = 4px face = \"Times New Roman\">\n",
    "(e) Find the Western movie with the highest gross among movies longer than 180 minutes. <br><i>Hint: Many movies have multiple genres. We want to include all movies with Western in the genre, not just movies where Western is the only genre. The string method .str.contains() might be useful here.\n",
    "</i></font></p>"
   ]
  },
  {
   "cell_type": "code",
   "execution_count": 5,
   "id": "3034fd23",
   "metadata": {},
   "outputs": [
    {
     "name": "stdout",
     "output_type": "stream",
     "text": [
      "The western movie longer than 180 minutes with the highest gross 184208848 is \"Dances with Wolves\"\n"
     ]
    },
    {
     "name": "stderr",
     "output_type": "stream",
     "text": [
      "/var/folders/s6/hxvlbvjs7sj27chtbkvktf180000gn/T/ipykernel_85708/2339934168.py:1: UserWarning: Boolean Series key will be reindexed to match DataFrame index.\n",
      "  df3 = df[df.genres.str.contains(\"Western\")][df.duration > 180]\n"
     ]
    }
   ],
   "source": [
    "df3 = df[df.genres.str.contains(\"Western\")][df.duration > 180]\n",
    "df3_gross_max = df3[df3.gross == df3.gross.max()]\n",
    "print(\"The western movie longer than 180 minutes with the highest gross {} is \\\"{}\\\"\"\n",
    "      .format(df3_gross_max.gross.values[0],df3_gross_max.movie_title.values[0].strip()))"
   ]
  },
  {
   "cell_type": "markdown",
   "id": "4961ae79",
   "metadata": {},
   "source": [
    "**<p style=\"line-height: 1.5\">\n",
    "<font size = 4px face = \"Times New Roman\">\n",
    "Present your answers as a full Jupyter Notebook. Your notebook must include code to find the results, and text answering the questions based on the output of your code. Download this notebook and convert to a PDF and submit with your assignment.</font></p>**"
   ]
  },
  {
   "cell_type": "markdown",
   "id": "b8612ebe",
   "metadata": {},
   "source": [
    "<i><p style=\"line-height: 1.5\">\n",
    "<font size = 4px face = \"Times New Roman\">\n",
    "Hint for submitting: You can ”Download As PDF” in Jupyter, but that may not work on your computer. If it doesn’t, you can download as HTML and convert that to a PDF. Make sure you join it to your assignment to make a single PDF when submitting! You might want to try googling things like “convert html to pdf” and “combine multiple pdfs”. There is also a video in the Python Module on MyUni demonstrating how to save a Jupyter Notebook as a PDF.\n",
    "</font></p></i>"
   ]
  },
  {
   "cell_type": "markdown",
   "id": "f25da324",
   "metadata": {},
   "source": []
  },
  {
   "cell_type": "code",
   "execution_count": null,
   "id": "ababc1d4",
   "metadata": {},
   "outputs": [],
   "source": []
  }
 ],
 "metadata": {
  "kernelspec": {
   "display_name": "Python 3",
   "language": "python",
   "name": "python3"
  },
  "language_info": {
   "codemirror_mode": {
    "name": "ipython",
    "version": 3
   },
   "file_extension": ".py",
   "mimetype": "text/x-python",
   "name": "python",
   "nbconvert_exporter": "python",
   "pygments_lexer": "ipython3",
   "version": "3.8.8"
  }
 },
 "nbformat": 4,
 "nbformat_minor": 5
}
