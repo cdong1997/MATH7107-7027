{
 "cells": [
  {
   "cell_type": "markdown",
   "id": "74284067",
   "metadata": {},
   "source": [
    "# <font face = \"Times New Roman\"><center>  Mathematical Foundations of Data Science </center> <center>Assignment 2</center> </font>\n",
    "#### <font face = \"Times New Roman\"> <p align=\"right\">Trimester 1, 2023 <br><br> Chang Dong (a1807402)</p> </font>"
   ]
  },
  {
   "cell_type": "markdown",
   "id": "3daef660",
   "metadata": {},
   "source": [
    "**<p style=\"line-height: 1.5\">\n",
    "<font size = 4px face = \"Times New Roman\">1. Consider the following distribution for a discrete random variable:</font></p>**"
   ]
  },
  {
   "cell_type": "markdown",
   "id": "555ecf2c",
   "metadata": {},
   "source": [
    "|$x$|$1$|$2$|$4$|$5$|$8$|\n",
    "|:--:|:--:|:--:|:--:|:--:|:--:|\n",
    "|$P(X=x)$|$0.05$|$0.25$|$0.3$|$0.1$|$0.3$|"
   ]
  },
  {
   "cell_type": "markdown",
   "id": "667d8239",
   "metadata": {},
   "source": [
    "<p style=\"line-height: 1.5\">\n",
    "<font size = 4px face = \"Times New Roman\">\n",
    "(a) Find the following probabilities:<br>\n",
    "    i.$P(X >1)$.<br>\n",
    "    ii.Find $P(X >1|X<5)$\n",
    "</font></p>\n"
   ]
  },
  {
   "cell_type": "markdown",
   "id": "59bada25",
   "metadata": {},
   "source": [
    "<p style=\"line-height: 2\">\n",
    "<font size = 3px face = \"Times New Roman\" >\n",
    "<i>Answer: </i><br>\n",
    "(i) $P(X >1) = 1- P(X =1) = 1- 0.05 = 0.9500$<br>\n",
    "(ii) $P(X >1| X<5) = \\frac{P(1< X < 5)}{P(X<5)} = \\frac{(P(X =2)\\ +\\ P(X =4))}{P(X =1)\\ +\\ P( X=2)\\ +\\ P(X = 4) } = 0.9167 $\n",
    "</font></p>"
   ]
  },
  {
   "cell_type": "markdown",
   "id": "866f9f0b",
   "metadata": {},
   "source": [
    "<p style=\"line-height: 1.5\">\n",
    "<font size = 4px face = \"Times New Roman\">\n",
    "(b) Calculate the expected value, $E[X]$.\n",
    "</font></p>\n",
    "\n"
   ]
  },
  {
   "cell_type": "markdown",
   "id": "17b4f8e0",
   "metadata": {},
   "source": [
    "<p style=\"line-height: 1.5\">\n",
    "<font size = 3px face = \"Times New Roman\" >\n",
    "<i>Answer: </i><br>\n",
    "$E(X) = \\sum_{x} x· P(X=x) = 1 \\times 0.05+2 \\times 0.25+4 \\times 0.3+5 \\times 0.1+8 \\times 0.3 = 4.6500$\n",
    "</font></p>"
   ]
  },
  {
   "cell_type": "markdown",
   "id": "04797915",
   "metadata": {},
   "source": [
    "<p style=\"line-height: 1.5\">\n",
    "<font size = 4px face = \"Times New Roman\">\n",
    "(c) Calculate the variance, var($X$), using the method $E[(X−E[X])^2]$, showing working.\n",
    "</font></p>\n",
    "\n"
   ]
  },
  {
   "cell_type": "markdown",
   "id": "cdfc01c0",
   "metadata": {},
   "source": [
    "<p style=\"line-height: 2\">\n",
    "<font size = 3px face = \"Times New Roman\" >\n",
    "<i>Answer: </i><br>\n",
    "$Var(X) = \\sum_{x} (x - E(X))^2· P(X=x) =(1-4.65)^2 \\times 0.05 +(2-4.65)^2 \\times 0.25 + (4-4.65)^2 \\times 0.3 $<br>$ + (5-4.65)^2 \\times 0.1 + (8-4.65)^2 \\times 0.3 = 5.9275$\n",
    "</font></p>"
   ]
  },
  {
   "cell_type": "markdown",
   "id": "3d91c207",
   "metadata": {},
   "source": [
    "<p style=\"line-height: 1.5\">\n",
    "<font size = 4px face = \"Times New Roman\">\n",
    "(d) Confirm your answer to part (c) by calculating $E[X^2] − E[X]^2$. Since you are expecting to get the same answer, you will not get marks for just having the answer. Your working must clearly show that you have independently calculated the variance using both methods.\n",
    "</font></p>\n",
    "\n"
   ]
  },
  {
   "cell_type": "markdown",
   "id": "06ad73a1",
   "metadata": {},
   "source": [
    "<p style=\"line-height: 2\">\n",
    "<font size = 3px face = \"Times New Roman\" >\n",
    "<i>Answer: </i><br>\n",
    "$E(X^2) = \\sum_{x} x^2· P(X=x) =\n",
    "1^2 \\times 0.05 +\n",
    "2^2 \\times 0.25 +\n",
    "4^2 \\times 0.3  +\n",
    "5^2 \\times 0.1  +\n",
    "8^2 \\times 0.3\n",
    "= 27.5500$<br>\n",
    "$E(X)^2 = 4.65^2 = 21.6225$ <br>\n",
    "$Var(X) = E(X^2) -  E(X)^2 = 27.5500 - 21.6225 = 5.9275$\n",
    "    \n",
    "The Same result as (c)\n",
    "</font></p>"
   ]
  },
  {
   "cell_type": "markdown",
   "id": "c88bfe55",
   "metadata": {},
   "source": [
    "<p style=\"line-height: 1.5\">\n",
    "<font size = 4px face = \"Times New Roman\">\n",
    "Where necessary, please round your answers to 4 decimal places.\n",
    "</font></p>"
   ]
  },
  {
   "cell_type": "markdown",
   "id": "20344ec5",
   "metadata": {},
   "source": [
    "**<p style=\"line-height: 1.5\">\n",
    "<font size = 4px face = \"Times New Roman\">2. Suppose that repairs to an old machine are modelled with a Poisson distribution. It is estimated that the machine requires significant repairs once every 14 days. Recall that the Poisson distribution measures the probability of $k$ events when the event frequency is $\\lambda$ as $\\frac{e^{-\\lambda}\\lambda ^k}{k!}$.\n",
    "</font></p>**"
   ]
  },
  {
   "cell_type": "markdown",
   "id": "d275b984",
   "metadata": {},
   "source": [
    "<p style=\"line-height: 1.5\">\n",
    "<font size = 4px face = \"Times New Roman\">\n",
    "(a) What is the probability that the machine requires more than 2 significant repairs in the next 14 days?\n",
    "</font></p>"
   ]
  },
  {
   "cell_type": "markdown",
   "id": "79efc25e",
   "metadata": {},
   "source": [
    "<p style=\"line-height: 1.5\">\n",
    "<font size = 3px face = \"Times New Roman\">\n",
    "<i>Answer: </i><br>\n",
    "Because the expectation couont of repair occurs equals to 1 in 14 days, so \n",
    "$\\lambda = 1$<br>\n",
    "$ P (k \\gt 2) = 1- \\sum_{k=0}^{2} e^1· \\frac{1^k}{k!} = \n",
    "1-  e^{-1}· \\frac{1^0}{0!}\n",
    "- e^{-1}·\\frac{1^1}{1!}\n",
    "-  e^{-1}· \\frac{1^2}{2!}\n",
    "= 0.0803$\n",
    "</font></p>"
   ]
  },
  {
   "cell_type": "markdown",
   "id": "7d50d5d0",
   "metadata": {},
   "source": [
    "<p style=\"line-height: 1.5\">\n",
    "<font size = 4px face = \"Times New Roman\">\n",
    "(b) Explain why the probability of no significant repairs in the next 35 days is $e^{-\\frac{5}{2}}$ .\n",
    "</font></p>"
   ]
  },
  {
   "cell_type": "markdown",
   "id": "dc357449",
   "metadata": {},
   "source": [
    "<p style=\"line-height: 1.5\">\n",
    "<font size = 3px face = \"Times New Roman\">\n",
    "<i>Answer: </i><br>\n",
    "Because the length of observation is 2.5 times of 14 days which is 35 days, so $E(X)$ is also 2.5 times of 1, which is 2.5, so $\\lambda$ = 2.5\n",
    "$ P (k = 0) =  e^{-\\frac{5}{2}}· \\frac{\\frac{5}{2}^0}{0!}  =  e^{-\\frac{5}{2}}$\n",
    "</font></p>"
   ]
  },
  {
   "cell_type": "markdown",
   "id": "b35e287b",
   "metadata": {},
   "source": [
    "\n",
    "\n",
    "<p style=\"line-height: 1.5\">\n",
    "<font size = 4px face = \"Times New Roman\">\n",
    "(c) How many days are required for the probability of at least one significant repair to exceed 0.5?\n",
    "</font></p>\n",
    "\n"
   ]
  },
  {
   "cell_type": "markdown",
   "id": "7730f7e3",
   "metadata": {},
   "source": [
    "<p style=\"line-height: 2\">\n",
    "<font size = 3px face = \"Times New Roman\">\n",
    "<i>Answer: </i><br>\n",
    "When the observation length = n days, Expect repair occurence $Ex = \\frac{n}{14}$ for n days, so $\\lambda = \\frac{n}{14}$<br>\n",
    "We should let $P (k \\ge 1) \\gt 0.5$  when the observation length = n days, then solve the inequation about n<br>\n",
    "$ P (k \\ge 1) = 1- P (k = 0)= 1- e^{-\\frac{n}{14}}· \\frac{{\\frac{n}{14}}^0}{0!}  > 0.5$<br>\n",
    "$\\iff e^{-\\frac{n}{14}} < 0.5$<br>\n",
    "$\\iff ln(e^{-\\frac{n}{14}}) < ln(0.5)$<br>\n",
    "$\\iff -\\frac{n}{14} < -ln(2)$<br>\n",
    "$\\iff \\frac{n}{14} > ln(2)$<br>\n",
    "$\\iff n > 14\\times ln(2)  = 9.7041$<br>\n",
    "If you allow the number of days to be a continuous value, 9.7041 is a critical value, any days greater than this value can ensure the probability of at least one significant repair to exceed 0.5<br>\n",
    "Otherwise, if you allow the number of days to be an disceret value we need at least 10 days for the probability of at least one significant repair to exceed 0.5\n",
    "</font></p>"
   ]
  },
  {
   "cell_type": "markdown",
   "id": "9ccb15ad",
   "metadata": {},
   "source": [
    "**<p style=\"line-height: 1.5\">\n",
    "<font size = 4px face = \"Times New Roman\">3. We know that matrix multiplication is usually not commutative. That is, if $X$ and $Y$ are square matrices of the same size, $XY$ is generally not the same as $YX$. We say that $X$ and $Y$ commute if $XY = YX$.<br>\n",
    "Consider a general 2 × 2 matrix,$\\begin{bmatrix}a&b\\\\c&d\\end{bmatrix}$\n",
    "</font></p>**"
   ]
  },
  {
   "cell_type": "markdown",
   "id": "817a0a7d",
   "metadata": {},
   "source": [
    "<p style=\"line-height: 1.5\">\n",
    "<font size = 4px face = \"Times New Roman\">(a) For which values of $a$, $b$, $c$, and $d$ does the above matrix commute with $\\begin{bmatrix}0&1\\\\1&0\\end{bmatrix}$? Note, this question is not asking for specific numbers. Your answer should explain the general conditions on $a$, $b$, $c$, and $d$ that describe all possible solutions.</font></p>"
   ]
  },
  {
   "cell_type": "markdown",
   "id": "7a57c8ad",
   "metadata": {},
   "source": [
    "<p style=\"line-height: 0\">\n",
    "<font size = 3px face = \"Times New Roman\">\n",
    "<i>Answer: </i><br>\n",
    "</font></p>\n",
    "\n",
    "<p style=\"line-height: 4\">\n",
    "<font size = 3px face = \"Times New Roman\">\n",
    "$\\begin{bmatrix}a&b\\\\c&d\\end{bmatrix} \\times \\begin{bmatrix}0&1\\\\1&0\\end{bmatrix} = \\begin{bmatrix}0&1\\\\1&0\\end{bmatrix} \\times \\begin{bmatrix}a&b\\\\c&d\\end{bmatrix} $ <br>\n",
    "$\\iff \\begin{bmatrix}a \\times 0+b\\times1&a\\times1+b\\times0\\\\c \\times 0 + d \\times 1& c\\times1 + d\\times0\\end{bmatrix}=\n",
    " \\begin{bmatrix}0 \\times a+1\\times c&0\\times b+1\\times d\\\\1 \\times a + 0 \\times c& 1\\times b + 0\\times d\\end{bmatrix}$<br>\n",
    "$\\iff \\begin{bmatrix}b&a\\\\d&c\\end{bmatrix} = \\begin{bmatrix}c&d\\\\a&b\\end{bmatrix}$\n",
    "</font></p>\n",
    "<p style=\"line-height: 1.5\">\n",
    "<font size = 3px face = \"Times New Roman\">\n",
    "$\\iff b = c, a = d$<br>\n",
    "In order to let matrix $\\begin{bmatrix}a&b\\\\c&d\\end{bmatrix}$ commute with $\\begin{bmatrix}0&1\\\\1&0\\end{bmatrix}$, we should have the condition: $b=c, a=d$,\n",
    "</font></p>"
   ]
  },
  {
   "cell_type": "markdown",
   "id": "427fdc16",
   "metadata": {},
   "source": [
    "<p style=\"line-height: 1.5\">\n",
    "<font size = 4px face = \"Times New Roman\">(b) For which values of $a$, $b$, $c$, and $d$ will a general 2 × 2 matrix commute with both $\\begin{bmatrix}0&1\\\\1&0\\end{bmatrix}$ and  $\\begin{bmatrix}0&1\\\\0&0\\end{bmatrix}$?</font></p>"
   ]
  },
  {
   "cell_type": "markdown",
   "id": "c9b7d850",
   "metadata": {},
   "source": [
    "<p style=\"line-height: 0\">\n",
    "<font size = 3px face = \"Times New Roman\">\n",
    "<i>Answer: </i><br>\n",
    "</font></p>\n",
    "<p style=\"line-height: 4\">\n",
    "<font size = 3px face = \"Times New Roman\">\n",
    "According to question (a) and question (b), Let: <br>\n",
    "$A = \\begin{bmatrix}a&b\\\\c&d\\end{bmatrix} = \\begin{bmatrix}a&c\\\\c&a\\end{bmatrix}$,\n",
    "$B = \\begin{bmatrix}0&1\\\\1&0\\end{bmatrix}$, \n",
    "$C = \\begin{bmatrix}0&1\\\\0&0\\end{bmatrix}$\n",
    "</font></p>\n",
    "<p style=\"line-height: 1.5\">\n",
    "<font size = 3px face = \"Times New Roman\">\n",
    "The question equals to prove $AB\\ =\\ BA,\\ AC\\ =\\ CA$<br>\n",
    "We have already knows $AB\\ =\\ BA$, so we only need to let $AC\\ =\\ CA$ can find which value can ensure it\n",
    "</font></p>\n",
    "<p style=\"line-height: 4\">\n",
    "<font size = 3px face = \"Times New Roman\">\n",
    "$AC = \\begin{bmatrix}a&c\\\\c&a\\end{bmatrix} \\times \\begin{bmatrix}0&1\\\\0&0\\end{bmatrix}$ <br>\n",
    "$\\ \\ \\ = \\begin{bmatrix}0&a\\\\0&c\\end{bmatrix}$<br>\n",
    "$CA =  \\begin{bmatrix}0&1\\\\0&0\\end{bmatrix} \\times \\begin{bmatrix}a&c\\\\c&a\\end{bmatrix}$ <br>\n",
    "$\\ \\ \\ = \\begin{bmatrix}c&a\\\\0&0\\end{bmatrix}$<br>\n",
    "In order to let A can commute with both $\\begin{bmatrix}0&1\\\\1&0\\end{bmatrix}$ and  $\\begin{bmatrix}0&1\\\\0&0\\end{bmatrix}$, we should have the condition: $ a = d,\\ c = b =0$, \n",
    "</font></p>"
   ]
  },
  {
   "cell_type": "markdown",
   "id": "529a49b1",
   "metadata": {},
   "source": [
    "<p style=\"line-height: 1.5\">\n",
    "<font size = 4px face = \"Times New Roman\">\n",
    "(c) Explain why your matrix from part (b) also commutes with $\\begin{bmatrix}0&0\\\\1&0\\end{bmatrix}$\n",
    "</font></p>"
   ]
  },
  {
   "cell_type": "markdown",
   "id": "1adc566b",
   "metadata": {},
   "source": [
    "<p style=\"line-height: 0\">\n",
    "<font size = 3px face = \"Times New Roman\">\n",
    "<i>Answer: </i><br>\n",
    "</font></p>\n",
    "<p style=\"line-height: 4\">\n",
    "<font size = 3px face = \"Times New Roman\">\n",
    "From question (b), we can have:<br>\n",
    "$A = \\begin{bmatrix}a&0\\\\0&a\\end{bmatrix} $,\n",
    "$B = \\begin{bmatrix}0&1\\\\1&0\\end{bmatrix} $,\n",
    "$C = \\begin{bmatrix}0&1\\\\0&0\\end{bmatrix} $,<br>\n",
    "$D = \\begin{bmatrix}0&0\\\\1&0\\end{bmatrix} = B-C $<br>\n",
    "$Because:\\ AB = BA, AC = CA$<br>\n",
    "$Then:\\ AD = A(B-C) = AB - AC = BA -CA = (B - C)A = DA$  <br>\n",
    "<i>QED.</i>\n",
    "</font></p>"
   ]
  },
  {
   "cell_type": "markdown",
   "id": "9c4bf012",
   "metadata": {},
   "source": [
    "**<p style=\"line-height: 1.5\">\n",
    "<font size = 4px face = \"Times New Roman\">4. Consider the following matrices:\n",
    "</font></p>**"
   ]
  },
  {
   "cell_type": "markdown",
   "id": "1d7812c2",
   "metadata": {},
   "source": [
    "<p style=\"line-height: 1.5\">\n",
    "<font size = 4px face = \"Times New Roman\">\n",
    "$D = \\begin{bmatrix}2&p&-4\\\\0&3&q\\end{bmatrix}$, $E = \\begin{bmatrix}1&-1\\\\r&0\\end{bmatrix}$ ,\n",
    "$F = \\begin{bmatrix}2&0&1\\\\0&4&0\\\\0&0&3\\end{bmatrix}$, where $p$, $q$, and $r$ are unknown real-valued parameters. Calculate $−2E^2 + DFD^T$, showing all working.\n",
    "</font></p>"
   ]
  },
  {
   "cell_type": "markdown",
   "id": "7c291778",
   "metadata": {},
   "source": [
    "<font size = 3px face = \"Times New Roman\">\n",
    "<p style=\"line-height: 0\">\n",
    "<i>Answer: </i><br>\n",
    "</p>\n",
    "<p style=\"line-height: 5\">\n",
    "$-2E^2 = -2 \\begin{bmatrix}1&-1\\\\r&0\\end{bmatrix}\\times \\begin{bmatrix}1&-1\\\\r&0\\end{bmatrix} = -2\\begin{bmatrix}1-r&-1\\\\r&-r\\end{bmatrix} = \\begin{bmatrix}2r-2&2\\\\-2r&2r\\end{bmatrix}$<br>\n",
    "$D^T = \\begin{bmatrix}2&p&-4\\\\0&3&q\\end{bmatrix}^T = \\begin{bmatrix}2&0\\\\p&3\\\\-4&q\\end{bmatrix}$<br>\n",
    "$DFD^T = \\begin{bmatrix}2&p&-4\\\\0&3&q\\end{bmatrix} \\times \\begin{bmatrix}2&0&1\\\\0&4&0\\\\0&0&3\\end{bmatrix} \\times \\begin{bmatrix}2&0\\\\p&3\\\\-4&q\\end{bmatrix} = \\begin{bmatrix}4&4p&-10\\\\0&12&3q\\end{bmatrix} \\times \\begin{bmatrix}2&0\\\\p&3\\\\-4&q\\end{bmatrix} $<br>$= \\begin{bmatrix}48+4p^2&12p-10q\\\\12p-12q&36+3q^2\\end{bmatrix}$<br>\n",
    "$−2𝐸^2+𝐷𝐹𝐷^𝑇 = \\begin{bmatrix}2r-2&2\\\\-2r&2r\\end{bmatrix} + \\begin{bmatrix}48+4p^2&12p-10q\\\\12p-12q&36+3q^2\\end{bmatrix} = \\begin{bmatrix}46+4p^2+2r&12p-10q+2\\\\12p-12q-2r&36+3q^2+2r\\end{bmatrix} $\n",
    "</font></p>"
   ]
  },
  {
   "cell_type": "markdown",
   "id": "153bebe6",
   "metadata": {},
   "source": []
  }
 ],
 "metadata": {
  "kernelspec": {
   "display_name": "Python 3",
   "language": "python",
   "name": "python3"
  },
  "language_info": {
   "codemirror_mode": {
    "name": "ipython",
    "version": 3
   },
   "file_extension": ".py",
   "mimetype": "text/x-python",
   "name": "python",
   "nbconvert_exporter": "python",
   "pygments_lexer": "ipython3",
   "version": "3.8.8"
  }
 },
 "nbformat": 4,
 "nbformat_minor": 5
}
