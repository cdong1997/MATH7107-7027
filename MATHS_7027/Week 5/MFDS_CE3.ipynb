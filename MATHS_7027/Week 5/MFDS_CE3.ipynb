{
 "cells": [
  {
   "cell_type": "markdown",
   "id": "6b76bbe2",
   "metadata": {},
   "source": [
    "# MATHS7027 Mathematical Foundations of Data Science\n",
    "## Computer Exercise 3\n",
    "In this computer exercise, we are going to investigate two discrete probability distributions, which we saw in week 4 - the Binomial distribution and the Poisson distribution.\n",
    "## Part 1: Plotting Histograms of Data\n",
    "First, let's generate some random data to work with. We'll use the `random` package to help with this. We'll create a list of 30 random integers between 0 and 20.\n",
    "\n",
    "Note that `range(n)` produces the numbers from 0 to n-1, so `range(30)` gives us 30 numbers to iterate over. We don't really care what these numbers are because we are counting using `i` as the input; the numbers are just to keep track of our counting."
   ]
  },
  {
   "cell_type": "code",
   "execution_count": 1,
   "id": "b9eb7ff8",
   "metadata": {},
   "outputs": [
    {
     "data": {
      "text/plain": [
       "[20,\n",
       " 12,\n",
       " 7,\n",
       " 8,\n",
       " 15,\n",
       " 13,\n",
       " 9,\n",
       " 3,\n",
       " 18,\n",
       " 2,\n",
       " 19,\n",
       " 0,\n",
       " 9,\n",
       " 0,\n",
       " 9,\n",
       " 0,\n",
       " 1,\n",
       " 9,\n",
       " 5,\n",
       " 19,\n",
       " 18,\n",
       " 18,\n",
       " 16,\n",
       " 3,\n",
       " 14,\n",
       " 17,\n",
       " 9,\n",
       " 9,\n",
       " 20,\n",
       " 18]"
      ]
     },
     "execution_count": 1,
     "metadata": {},
     "output_type": "execute_result"
    }
   ],
   "source": [
    "import random\n",
    "r1 = [random.randint(0,20) for i in range(30)]\n",
    "r1"
   ]
  },
  {
   "cell_type": "markdown",
   "id": "dd7221b2",
   "metadata": {},
   "source": [
    "Depending on your particular output, you might wonder if specifying `(0,20)` in the random number generation really gives numbers up to 20, or only up to 19. Can you think of a simple way to check this? You should find that it does include both endpoints (i.e., 0 and 20).\n",
    "\n",
    "Next, we will make a histogram. Before we use the random numbers we just generated, let's use some not-so-random numbers. This will make it easier to understand some potential issues with histograms."
   ]
  },
  {
   "cell_type": "code",
   "execution_count": 2,
   "id": "d1d07cda",
   "metadata": {},
   "outputs": [
    {
     "data": {
      "text/plain": [
       "(array([6., 0., 2., 2., 2., 1., 0., 1., 2., 4.]),\n",
       " array([ 4. ,  5.4,  6.8,  8.2,  9.6, 11. , 12.4, 13.8, 15.2, 16.6, 18. ]),\n",
       " <BarContainer object of 10 artists>)"
      ]
     },
     "execution_count": 2,
     "metadata": {},
     "output_type": "execute_result"
    },
    {
     "data": {
      "image/png": "[encoded data removed]",
      "text/plain": [
       "<Figure size 432x288 with 1 Axes>"
      ]
     },
     "metadata": {
      "needs_background": "light"
     },
     "output_type": "display_data"
    }
   ],
   "source": [
    "r2 = [4,4,5,5,5,5,7,8,9,9,10,10,11,15,16,16,18,18,18,18]\n",
    "\n",
    "import matplotlib.pyplot as plt\n",
    "plt.hist(r2)"
   ]
  },
  {
   "cell_type": "markdown",
   "id": "d3febd09",
   "metadata": {},
   "source": [
    "Can you identify two separate problems with the above histogram?\n",
    "\n",
    "<details> \n",
    "    <summary markdown=\"span\"><strong>Click here</strong> to reveal:</summary>\n",
    "    \n",
    "1. It doesn't show all of the possible data. We are viewing a random sample of numbers between 0 and 20, but we might still want to show the full range of possible values.\n",
    "2. The numbers 4 and 5 are in the same bin. In fact, if you look at the output that Python gives just above the plot, the second array shows the bins. We can see that one goes from `4.` to `5.4`, but this doesn't necessarily make a lot of sense, since we specifically generated random *integers*.\n",
    "</details>\n",
    "\n",
    "Let's try to make a better histogram. Take a look at the [documentation for pyplot.hist](https://matplotlib.org/stable/api/_as_gen/matplotlib.pyplot.hist.html) to see what parameters are available. In particular, we might be interested in `bins`, `range`, and `align`. If you want to set a parameter, you must include it as an argument in your `hist` command, e.g., `bins=20` would specify 20 bins.\n",
    "\n",
    "Try writing your own code in the cell below to improve our histogram."
   ]
  },
  {
   "cell_type": "code",
   "execution_count": 8,
   "id": "95e0ac07",
   "metadata": {},
   "outputs": [
    {
     "data": {
      "image/png": "[encoded data removed]",
      "text/plain": [
       "<Figure size 432x288 with 1 Axes>"
      ]
     },
     "metadata": {
      "needs_background": "light"
     },
     "output_type": "display_data"
    }
   ],
   "source": [
    "# Try some code here to fix these problems\n",
    "plt.hist(r2, bins= 20)\n",
    "plt.show()"
   ]
  },
  {
   "cell_type": "markdown",
   "id": "eef1516a",
   "metadata": {},
   "source": [
    "There are some further tricks we can use to make our histogram even better. We can use `plt.xticks` to set labels on the x-axis, and use `align` to centre the bins over integers - we do `align=\"left\"`, because the bins are of the form $[0,1)$, $[1,2)$, and so on. We specify the range up to 22 in order to include the bin $[20,21)$ (remember, `range` does not include the last number, so `range(22)` gives 0 up to 21).\n",
    "\n",
    "Note that specifying a range of bins, rather than the number of bins, defines the start of each bin at an integer.\n",
    "\n",
    "Don't worry if you didn't know all of this already! The idea is to try it, see how it looks, and then adjust the parameters so you can deal with problems when you encounter them."
   ]
  },
  {
   "cell_type": "code",
   "execution_count": 13,
   "id": "bb87244a",
   "metadata": {},
   "outputs": [
    {
     "data": {
      "image/png": "[encoded data removed]",
      "text/plain": [
       "<Figure size 432x288 with 1 Axes>"
      ]
     },
     "metadata": {
      "needs_background": "light"
     },
     "output_type": "display_data"
    },
    {
     "data": {
      "image/png": "[encoded data removed]",
      "text/plain": [
       "<Figure size 432x288 with 1 Axes>"
      ]
     },
     "metadata": {
      "needs_background": "light"
     },
     "output_type": "display_data"
    }
   ],
   "source": [
    "plt.xticks(range(21))\n",
    "plt.hist(r2,bins=range(22),align=\"right\")\n",
    "plt.show()\n",
    "plt.xticks(range(21))\n",
    "plt.hist(r2,bins=range(22),align=\"left\")\n",
    "plt.show()"
   ]
  },
  {
   "cell_type": "markdown",
   "id": "1d7b12ae",
   "metadata": {},
   "source": [
    "Now, let's try something similar with your random data, `r1 `:"
   ]
  },
  {
   "cell_type": "code",
   "execution_count": 15,
   "id": "4ccf30c6",
   "metadata": {},
   "outputs": [
    {
     "data": {
      "image/png": "[encoded data removed]",
      "text/plain": [
       "<Figure size 432x288 with 1 Axes>"
      ]
     },
     "metadata": {
      "needs_background": "light"
     },
     "output_type": "display_data"
    },
    {
     "data": {
      "image/png": "[encoded data removed]",
      "text/plain": [
       "<Figure size 432x288 with 1 Axes>"
      ]
     },
     "metadata": {
      "needs_background": "light"
     },
     "output_type": "display_data"
    }
   ],
   "source": [
    "# Try some code here to produce a histogram using your random data (r1)\n",
    "\n",
    "plt.hist(r1,bins=20,align=\"left\")\n",
    "plt.show()\n",
    "\n",
    "\n",
    "plt.hist(r1,bins=20,align=\"right\")\n",
    "plt.show()"
   ]
  },
  {
   "cell_type": "markdown",
   "id": "84713a46",
   "metadata": {},
   "source": [
    "Now, let's try it with a lot more data - say, 1000 numbers instead of 30 - and plot the corresponding histogram. Can you guess what the histogram should look like before plotting it?"
   ]
  },
  {
   "cell_type": "code",
   "execution_count": 229,
   "id": "3998ae88",
   "metadata": {},
   "outputs": [
    {
     "name": "stdout",
     "output_type": "stream",
     "text": [
      "32380 32279\n"
     ]
    }
   ],
   "source": [
    "r3 = [random.randint(0,30) for i in range(1000000)]\n",
    "count30,count29 = 0,0\n",
    "for i in r3:\n",
    "    if i == 30:\n",
    "        count30+=1 \n",
    "    if i == 29:\n",
    "        count29+=1 \n",
    "print(count29,count30)"
   ]
  },
  {
   "cell_type": "code",
   "execution_count": 230,
   "id": "682aa13b",
   "metadata": {},
   "outputs": [
    {
     "data": {
      "text/plain": [
       "(array([32403., 32140., 32324., 32395., 32188., 32460., 32085., 32313.,\n",
       "        32294., 32035., 32401., 31859., 32179., 32202., 31984., 31970.,\n",
       "        32479., 32273., 32414., 32176., 32373., 32546., 32311., 32283.,\n",
       "        32251., 32407., 32193., 32143., 32260., 32380., 32279.]),\n",
       " array([ 0.        ,  0.96774194,  1.93548387,  2.90322581,  3.87096774,\n",
       "         4.83870968,  5.80645161,  6.77419355,  7.74193548,  8.70967742,\n",
       "         9.67741935, 10.64516129, 11.61290323, 12.58064516, 13.5483871 ,\n",
       "        14.51612903, 15.48387097, 16.4516129 , 17.41935484, 18.38709677,\n",
       "        19.35483871, 20.32258065, 21.29032258, 22.25806452, 23.22580645,\n",
       "        24.19354839, 25.16129032, 26.12903226, 27.09677419, 28.06451613,\n",
       "        29.03225806, 30.        ]),\n",
       " <BarContainer object of 31 artists>)"
      ]
     },
     "execution_count": 230,
     "metadata": {},
     "output_type": "execute_result"
    },
    {
     "data": {
      "image/png": "[encoded data removed]",
      "text/plain": [
       "<Figure size 432x288 with 1 Axes>"
      ]
     },
     "metadata": {
      "needs_background": "light"
     },
     "output_type": "display_data"
    }
   ],
   "source": [
    "plt.hist(r3, bins = 31,align=\"left\",alpha = 0.5)\n",
    "plt.hist(r3, bins = 31,align=\"right\",alpha =0.5)"
   ]
  },
  {
   "cell_type": "markdown",
   "id": "666985ae",
   "metadata": {},
   "source": [
    "This histogram should look fairly flat - this is because we are randomly selecting each number with equal probability (this is called a [Uniform distribution](https://en.wikipedia.org/wiki/Discrete_uniform_distribution)). We can also generate random data using other discrete distributions."
   ]
  },
  {
   "cell_type": "markdown",
   "id": "b9853588",
   "metadata": {},
   "source": [
    "## Part 2: The Binomial Distribution - Experimenting with Data \n",
    "Now, let's generate some random data using the Binomial distribution. We can access probability distributions using the `stats` package in `scipy`. "
   ]
  },
  {
   "cell_type": "code",
   "execution_count": 88,
   "id": "339bc9ca",
   "metadata": {},
   "outputs": [
    {
     "data": {
      "text/plain": [
       "array([2, 2, 1, 1, 3, 2, 3, 1, 3, 2, 4, 0, 1, 2, 2, 1, 3, 3, 3, 1])"
      ]
     },
     "execution_count": 88,
     "metadata": {},
     "output_type": "execute_result"
    }
   ],
   "source": [
    "from scipy import stats\n",
    "\n",
    "bn1 = stats.binom.rvs(n=5,p=0.5,size=20)\n",
    "bn1"
   ]
  },
  {
   "cell_type": "markdown",
   "id": "cb5349ef",
   "metadata": {},
   "source": [
    "Can you interpret what this data represents? Try changing the parameters in the definition to explore what happens to the data. \n",
    "\n",
    "<details> \n",
    "    <summary markdown=\"span\"><strong>Click here</strong> to reveal:</summary>\n",
    "    Each entry in the list is the number of successes in a series of <code>n=5</code> random trials, where each trial has a <code>p=0.5</code> probability of success. There are <code>size=20</code> numbers in the list.\n",
    "</details>\n",
    "\n",
    "Now, let's plot a histogram of this data. I'll redefine `bn1` in the code block below, in case you changed it above when you were exploring what each parameter means:"
   ]
  },
  {
   "cell_type": "code",
   "execution_count": 148,
   "id": "22042d14",
   "metadata": {},
   "outputs": [
    {
     "data": {
      "text/plain": [
       "array([2, 2, 3, 2, 1, 3, 3, 2, 1, 3])"
      ]
     },
     "execution_count": 148,
     "metadata": {},
     "output_type": "execute_result"
    },
    {
     "data": {
      "image/png": "[encoded data removed]",
      "text/plain": [
       "<Figure size 432x288 with 1 Axes>"
      ]
     },
     "metadata": {
      "needs_background": "light"
     },
     "output_type": "display_data"
    }
   ],
   "source": [
    "bn1 = stats.binom.rvs(n=5,p=0.5,size=10)\n",
    "\n",
    "# Try some code to produce a histogram of bn1\n",
    "plt.hist(bn1, align=\"left\")\n",
    "bn1"
   ]
  },
  {
   "cell_type": "markdown",
   "id": "6a6f5a83",
   "metadata": {},
   "source": [
    "Once you have some nice code to produce a histogram, you can re-run it see different random data.\n",
    "\n",
    "Now, change your code to generate much more data. This time, let's have 20 trials and 1000 numbers; call this `bn2`."
   ]
  },
  {
   "cell_type": "code",
   "execution_count": 184,
   "id": "2feb7fd3",
   "metadata": {},
   "outputs": [
    {
     "data": {
      "text/plain": [
       "(array([ 10.,  16.,  39., 177., 160., 193., 293.,  66.,  25.,  21.]),\n",
       " array([ 3. ,  4.3,  5.6,  6.9,  8.2,  9.5, 10.8, 12.1, 13.4, 14.7, 16. ]),\n",
       " <BarContainer object of 10 artists>)"
      ]
     },
     "execution_count": 184,
     "metadata": {},
     "output_type": "execute_result"
    },
    {
     "data": {
      "image/png": "[encoded data removed]",
      "text/plain": [
       "<Figure size 432x288 with 1 Axes>"
      ]
     },
     "metadata": {
      "needs_background": "light"
     },
     "output_type": "display_data"
    }
   ],
   "source": [
    "# Define bn2 here\n",
    "\n",
    "bn2 = stats.binom.rvs(n=20,p=0.5,size=1000)\n",
    "\n",
    "# Try some code to produce a histogram of bn1\n",
    "plt.hist(bn2, align=\"left\")\n"
   ]
  },
  {
   "cell_type": "markdown",
   "id": "cefae86a",
   "metadata": {},
   "source": [
    "We should see that the shape is very different to the distribution we had for the uniform random data in part 1.\n",
    "\n",
    "Now, try changing the probability of success and look at the result. "
   ]
  },
  {
   "cell_type": "code",
   "execution_count": 202,
   "id": "4d76e5c1",
   "metadata": {},
   "outputs": [
    {
     "data": {
      "text/plain": [
       "(array([  9.,  56., 141., 222., 209., 170., 110.,  54.,  22.,   7.]),\n",
       " array([ 0.,  1.,  2.,  3.,  4.,  5.,  6.,  7.,  8.,  9., 10.]),\n",
       " <BarContainer object of 10 artists>)"
      ]
     },
     "execution_count": 202,
     "metadata": {},
     "output_type": "execute_result"
    },
    {
     "data": {
      "image/png": "[encoded data removed]",
      "text/plain": [
       "<Figure size 432x288 with 1 Axes>"
      ]
     },
     "metadata": {
      "needs_background": "light"
     },
     "output_type": "display_data"
    }
   ],
   "source": [
    "# Try a probability lower than 0.5; call it bn3\n",
    "\n",
    "bn3 = stats.binom.rvs(n=20,p=0.2,size=1000)\n",
    "\n",
    "# Try some code to produce a histogram of bn1\n",
    "plt.hist(bn3, align=\"left\")\n"
   ]
  },
  {
   "cell_type": "code",
   "execution_count": 208,
   "id": "4698c385",
   "metadata": {},
   "outputs": [
    {
     "data": {
      "text/plain": [
       "(array([  2.,   3.,   9.,  18.,  46., 270., 211., 226., 146.,  69.]),\n",
       " array([ 8. ,  9.2, 10.4, 11.6, 12.8, 14. , 15.2, 16.4, 17.6, 18.8, 20. ]),\n",
       " <BarContainer object of 10 artists>)"
      ]
     },
     "execution_count": 208,
     "metadata": {},
     "output_type": "execute_result"
    },
    {
     "data": {
      "image/png": "[encoded data removed]",
      "text/plain": [
       "<Figure size 432x288 with 1 Axes>"
      ]
     },
     "metadata": {
      "needs_background": "light"
     },
     "output_type": "display_data"
    }
   ],
   "source": [
    "# Try a probability higher than 0.5; call it bn4 \n",
    "\n",
    "bn4 = stats.binom.rvs(n=20,p=0.8,size=1000)\n",
    "\n",
    "# Try some code to produce a histogram of bn1\n",
    "plt.hist(bn4, align=\"left\")\n"
   ]
  },
  {
   "cell_type": "markdown",
   "id": "50320964",
   "metadata": {},
   "source": [
    "We can also calculate the mean and variance of our data. These are methods associated with the random variable; for example, for `bn1` we can call `bn1.mean()` and `bn1.var()`.\n",
    "\n",
    "Try calculating the mean and variance of all of the Binomial random variable samples we have generated so far."
   ]
  },
  {
   "cell_type": "code",
   "execution_count": 209,
   "id": "e6dc165c",
   "metadata": {},
   "outputs": [
    {
     "name": "stdout",
     "output_type": "stream",
     "text": [
      "The mean of bn1 is: 2.2\n",
      "The variance of bn1 is: 0.5599999999999999\n"
     ]
    }
   ],
   "source": [
    "# Here's an example of the mean and variance for bn1\n",
    "print(\"The mean of bn1 is:\",bn1.mean())\n",
    "print(\"The variance of bn1 is:\",bn1.var())\n",
    "\n",
    "# Try calculating the mean and variance for each of bn2, bn3, and bn4\n",
    "\n"
   ]
  },
  {
   "cell_type": "markdown",
   "id": "107fe9a8",
   "metadata": {},
   "source": [
    "The theoretical (population) mean for the Binomial distribution is $n \\times p$, but, for a given random sample, it won't be exactly that. As we increase the amount of data we are looking at (sample size), we expect that the mean of our data (sample mean) will approach the population mean.\n",
    "\n",
    "Now, let's carry out some experiments in order to observe this. We will generate a series of data sets and compute the mean for each, and look at what happens as the size of the data sets increases. We can plot this data alongside the population mean. \n",
    "\n",
    "Explore what happens if you choose different values of `n`, `p`, and `size`."
   ]
  },
  {
   "cell_type": "code",
   "execution_count": 210,
   "id": "7428c08a",
   "metadata": {},
   "outputs": [
    {
     "data": {
      "image/png": "[encoded data removed]",
      "text/plain": [
       "<Figure size 432x288 with 1 Axes>"
      ]
     },
     "metadata": {
      "needs_background": "light"
     },
     "output_type": "display_data"
    }
   ],
   "source": [
    "import numpy as np\n",
    "# here, we define the parameters we need: n is the number of trials, p is the\n",
    "# probability of success, and size is the sample size\n",
    "n = 5\n",
    "p = 0.4\n",
    "size = 1000\n",
    "\n",
    "# generate the random data we want to use\n",
    "D = stats.binom.rvs(n=n,p=p,size=size)\n",
    "\n",
    "# initialise a list that we can use to store the means\n",
    "M = []\n",
    "\n",
    "# and another list that we can use to store the population mean (there are many\n",
    "# smarter ways to do this, but this will be fine for what we need)\n",
    "pm = []\n",
    "\n",
    "# using a for loop, calculate the sample mean of the first i observations in our\n",
    "# data also keep track of the population mean\n",
    "for i in range(1,size+1):\n",
    "    M.append(np.mean(D[0:i]))\n",
    "    pm.append(n*p)\n",
    "\n",
    "# get sensible numbers for the x-axis of our plot\n",
    "x = np.arange(size)+1\n",
    "# produce a plot of x vs M (the sample means we calculated)\n",
    "plt.plot(x,M)\n",
    "# produce a plot of x vs pm (the population mean of our distribution)\n",
    "plt.plot(x,pm)\n",
    "# display the plots\n",
    "plt.show()"
   ]
  },
  {
   "cell_type": "markdown",
   "id": "fdb34f51",
   "metadata": {},
   "source": [
    "#### Extension question:\n",
    "What if you modify the code above to produce an entirely new sample of size `i` at each step? How would you expect the plot to change?\n",
    "\n",
    "*Note: This will probably run a fair bit slower than the original code, so be careful about not making `size` too large.*"
   ]
  },
  {
   "cell_type": "code",
   "execution_count": 211,
   "id": "eabe0885",
   "metadata": {},
   "outputs": [
    {
     "data": {
      "image/png": "[encoded data removed]",
      "text/plain": [
       "<Figure size 432x288 with 1 Axes>"
      ]
     },
     "metadata": {
      "needs_background": "light"
     },
     "output_type": "display_data"
    }
   ],
   "source": [
    "# Try the extension question here if you want to\n",
    "\n",
    "n = 5\n",
    "p = 0.4\n",
    "size = 10000\n",
    "\n",
    "# generate the random data we want to use\n",
    "D = stats.binom.rvs(n=n,p=p,size=size)\n",
    "\n",
    "# initialise a list that we can use to store the means\n",
    "M = []\n",
    "\n",
    "# and another list that we can use to store the population mean (there are many\n",
    "# smarter ways to do this, but this will be fine for what we need)\n",
    "pm = []\n",
    "\n",
    "# using a for loop, calculate the sample mean of the first i observations in our\n",
    "# data also keep track of the population mean\n",
    "for i in range(1,size+1):\n",
    "    M.append(np.mean(D[0:i]))\n",
    "    pm.append(n*p)\n",
    "\n",
    "# get sensible numbers for the x-axis of our plot\n",
    "x = np.arange(size)+1\n",
    "# produce a plot of x vs M (the sample means we calculated)\n",
    "plt.plot(x,M)\n",
    "# produce a plot of x vs pm (the population mean of our distribution)\n",
    "plt.plot(x,pm)\n",
    "# display the plots\n",
    "plt.show()"
   ]
  },
  {
   "cell_type": "markdown",
   "id": "6bfa6752",
   "metadata": {},
   "source": [
    "Now, do the same analysis for the variance. Again, observe what happens to the sample variance as you change `n`, `p`, and `size`. What value should the sample variance approach as the sample size increases?\n",
    "\n",
    "*Note: you don't need to worry about reproducing the extension question for the variance.*"
   ]
  },
  {
   "cell_type": "code",
   "execution_count": 243,
   "id": "4c93842e",
   "metadata": {},
   "outputs": [
    {
     "data": {
      "image/png": "[encoded data removed]",
      "text/plain": [
       "<Figure size 432x288 with 1 Axes>"
      ]
     },
     "metadata": {
      "needs_background": "light"
     },
     "output_type": "display_data"
    }
   ],
   "source": [
    "n = 5\n",
    "p = 0.4\n",
    "X = []\n",
    "y = []\n",
    "for size in range(0,16):\n",
    "    \n",
    "    size = 2**size\n",
    "\n",
    "    # generate the random data we want to use\n",
    "    D = stats.binom.rvs(n=n,p=p,size=size)\n",
    "\n",
    "    # initialise a list that we can use to store the means\n",
    "    M = []\n",
    "\n",
    "    # and another list that we can use to store the population mean (there are many\n",
    "    # smarter ways to do this, but this will be fine for what we need)\n",
    "    pm = []\n",
    "\n",
    "    # using a for loop, calculate the sample mean of the first i observations in our\n",
    "    # data also keep track of the population mean\n",
    "    for i in range(1,size+1):\n",
    "        M.append(np.mean(D[0:i]))\n",
    "        pm.append(n*p)\n",
    "\n",
    "    X.append(size)\n",
    "    y.append(np.array(M).var())\n",
    "\n",
    "plt.scatter(X, y)\n",
    "plt.xscale(\"log\")\n",
    "plt.yscale(\"log\")\n",
    "plt.show()"
   ]
  },
  {
   "cell_type": "markdown",
   "id": "4d7c1619",
   "metadata": {},
   "source": [
    "## Part 3: Binomial Distribution Calculations \n",
    "So far, we have been working with random data generated using a Binomial distribution. Now, we will work with the actual distribution and see how to calculate probabilities for Binomial random variables."
   ]
  },
  {
   "cell_type": "code",
   "execution_count": 244,
   "id": "5c2bd66c",
   "metadata": {},
   "outputs": [
    {
     "name": "stdout",
     "output_type": "stream",
     "text": [
      "An example of the PMF is X.pmf(2)= 0.31249999999999983\n",
      "An example of the CDF is X.cdf(2)= 0.5\n"
     ]
    }
   ],
   "source": [
    "# first we will set n and p \n",
    "n = 5\n",
    "p = 0.5\n",
    "\n",
    "# now we define a binomial random variable \n",
    "# by default it expects n and p first, so we enter those as arguments \n",
    "X = stats.binom(n=n,p=p)\n",
    "\n",
    "# now we can work out probabilities using the probability mass function\n",
    "# (PMF) and cumulative distribution function (CDF) \n",
    "print(\"An example of the PMF is X.pmf(2)=\",X.pmf(2))\n",
    "print(\"An example of the CDF is X.cdf(2)=\",X.cdf(2))"
   ]
  },
  {
   "cell_type": "markdown",
   "id": "69eb477d",
   "metadata": {},
   "source": [
    "Can you see what these are calculating? Try a few more values to investigate."
   ]
  },
  {
   "cell_type": "code",
   "execution_count": 247,
   "id": "8b374377",
   "metadata": {},
   "outputs": [
    {
     "name": "stdout",
     "output_type": "stream",
     "text": [
      "An example of the PMF is X.pmf(1)= 0.15624999999999997\n",
      "An example of the CDF is X.cdf(3)= 0.8125\n"
     ]
    }
   ],
   "source": [
    "# Try more examples here to see if you can figure out what the pmf and cdf are\n",
    "\n",
    "print(\"An example of the PMF is X.pmf(1)=\",X.pmf(1))\n",
    "print(\"An example of the CDF is X.cdf(3)=\",X.cdf(3))"
   ]
  },
  {
   "cell_type": "markdown",
   "id": "a23f8ed6",
   "metadata": {},
   "source": [
    "We can also plot the PMF and CDF."
   ]
  },
  {
   "cell_type": "code",
   "execution_count": 248,
   "id": "9e2a3b5e",
   "metadata": {},
   "outputs": [
    {
     "data": {
      "image/png": "[encoded data removed]",
      "text/plain": [
       "<Figure size 432x288 with 1 Axes>"
      ]
     },
     "metadata": {
      "needs_background": "light"
     },
     "output_type": "display_data"
    }
   ],
   "source": [
    "# first we make a range of x values \n",
    "x = range(n+1)\n",
    "\n",
    "# then we make the plots (here they are shown on the same set of axes)\n",
    "plt.plot(x,X.pmf(x),label=\"PMF\")\n",
    "plt.plot(x,X.cdf(x),label=\"CDF\")\n",
    "plt.legend()\n",
    "plt.show()"
   ]
  },
  {
   "cell_type": "markdown",
   "id": "4d70fec5",
   "metadata": {},
   "source": [
    "We can use the PMF and CDF to calculate probabilities.\n",
    "\n",
    "Suppose a fair coin is tossed 5 times (this has a Binomial distribution with $n = 5$ and $p = 0.5$, so we can use the `X` we have already defined).\n",
    "\n",
    "What is the probability of getting:  \n",
    "(a) exactly 1 head?  \n",
    "(b) at most 2 heads?"
   ]
  },
  {
   "cell_type": "code",
   "execution_count": 249,
   "id": "66928106",
   "metadata": {},
   "outputs": [
    {
     "name": "stdout",
     "output_type": "stream",
     "text": [
      "0.15624999999999997\n",
      "0.4687499999999998\n"
     ]
    }
   ],
   "source": [
    "# What is the probability of getting exactly 1 head?\n",
    "print(X.pmf(1))\n",
    "\n",
    "\n",
    "# What is the probability of getting at most 2 heads?\n",
    "print(X.pmf(1)+ X.pmf(2))\n"
   ]
  },
  {
   "cell_type": "markdown",
   "id": "2bcdcf44",
   "metadata": {},
   "source": [
    "Now, suppose a biased coin is tossed $n = 1000$ times. The biased coin has a probability $p = 0.4$ of coming up heads.\n",
    "\n",
    "Find the probability that there are:  \n",
    "(a) at most 425 heads.  \n",
    "(b)  at least 395 heads.  \n",
    "(c) between 395 and 425 heads (inclusive)."
   ]
  },
  {
   "cell_type": "code",
   "execution_count": 250,
   "id": "87e5cf39",
   "metadata": {},
   "outputs": [
    {
     "name": "stdout",
     "output_type": "stream",
     "text": [
      "0.9497684283389287\n",
      "0.6379988539152479\n",
      "0.5632784995352522\n"
     ]
    }
   ],
   "source": [
    "n = 1000\n",
    "p = 0.4\n",
    "\n",
    "# now we define a binomial random variable \n",
    "# by default it expects n and p first, so we enter those as arguments \n",
    "X = stats.binom(n=n,p=p)\n",
    "\n",
    "# Probability of at most 425 heads\n",
    "\n",
    "print(X.cdf(425))\n",
    "\n",
    "# Probability of at least 395 heads\n",
    "\n",
    "print(1-X.cdf(394))\n",
    "\n",
    "# Probability of between 395 and 425 heads (inclusive)\n",
    "\n",
    "print(X.cdf(425)-X.cdf(395))"
   ]
  },
  {
   "cell_type": "markdown",
   "id": "b1cf8e58",
   "metadata": {},
   "source": [
    "Finally, let's try plotting the PMF and CDF for large $n$ and various choices of $p$.  You should find that it looks like a smooth line. The shape might also look familiar - for certain parameters, the Binomial distribution is approximated by the Normal distribution. We'll come back to this later in the course when we look at continuous probability distributions.\n",
    "\n",
    "*Hint: for larger values of `n`, it's best to plot the PMF and CDF separately.*"
   ]
  },
  {
   "cell_type": "code",
   "execution_count": 254,
   "id": "f217a7a1",
   "metadata": {},
   "outputs": [
    {
     "data": {
      "image/png": "[encoded data removed]",
      "text/plain": [
       "<Figure size 432x288 with 1 Axes>"
      ]
     },
     "metadata": {
      "needs_background": "light"
     },
     "output_type": "display_data"
    }
   ],
   "source": [
    "# Try plotting the pmf and cdf separately, for large values of n (say n = 100, 1000)\n",
    "\n",
    "x = range(1000)\n",
    "\n",
    "# then we make the plots (here they are shown on the same set of axes)\n",
    "plt.plot(x,X.pmf(x),label=\"PMF\")\n",
    "plt.plot(x,X.cdf(x),label=\"CDF\")\n",
    "plt.xlim(300,500)\n",
    "plt.ylim(0,0.1)\n",
    "plt.legend()\n",
    "plt.show()"
   ]
  },
  {
   "cell_type": "markdown",
   "id": "e8dfca64",
   "metadata": {},
   "source": [
    "## Extension: The Poisson Distribution \n",
    "Have you finished Parts 1, 2, and 3, but there's still time left in your class? That's great - that means we have time to look at *another* distribution!\n",
    "\n",
    "`scipy.stats` has many discrete probability distributions. Another, which we have seen in the course material, is the Poisson distribution. You can try exploring the Poisson distribution in a similar way to what we have done previously with the Binomial distribution.\n",
    "\n",
    "For a summary of the Poisson distribution in `scipy.stats`, see here: https://docs.scipy.org/doc/scipy/reference/generated/scipy.stats.poisson.html\n",
    "\n",
    "Since this is an extension exercise, and not a guided activity, there's just one code block below, but you can use it to explore the Poisson distribution in whatever way you like. Let's see what you can come up with!"
   ]
  },
  {
   "cell_type": "code",
   "execution_count": null,
   "id": "a71c665e",
   "metadata": {},
   "outputs": [],
   "source": []
  }
 ],
 "metadata": {
  "kernelspec": {
   "display_name": "Python 3",
   "language": "python",
   "name": "python3"
  },
  "language_info": {
   "codemirror_mode": {
    "name": "ipython",
    "version": 3
   },
   "file_extension": ".py",
   "mimetype": "text/x-python",
   "name": "python",
   "nbconvert_exporter": "python",
   "pygments_lexer": "ipython3",
   "version": "3.8.8"
  }
 },
 "nbformat": 4,
 "nbformat_minor": 5
}
