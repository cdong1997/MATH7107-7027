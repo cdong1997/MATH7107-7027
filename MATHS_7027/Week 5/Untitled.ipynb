{
 "cells": [
  {
   "cell_type": "code",
   "execution_count": 10,
   "id": "0d2ae2a2",
   "metadata": {},
   "outputs": [
    {
     "name": "stdout",
     "output_type": "stream",
     "text": [
      "[[1. 2. 1. 1. 1. 1. 0. 0.]\n",
      " [1. 0. 1. 1. 1. 1. 1. 2.]]\n"
     ]
    },
    {
     "data": {
      "text/plain": [
       "array([37.68, 38.84])"
      ]
     },
     "execution_count": 10,
     "metadata": {},
     "output_type": "execute_result"
    }
   ],
   "source": [
    "import numpy as np\n",
    "\n",
    "words = [ 'would', 'you', 'could', 'in', 'the', 'dark', 'i', 'not']\n",
    "scores = np.array([ 5.38, 6.24, 5.52, 5.50, 4.98, 3.82, 5.92, 3.86])\n",
    "\n",
    "t1 = 'would you could you in the dark'\n",
    "t2 = 'i would not could not in the dark'\n",
    "\n",
    "texts = [t1,t2]\n",
    "\n",
    "X = np.zeros((2,len(words)))\n",
    "for i,text in enumerate(texts):\n",
    "    for word in text.split():\n",
    "        j = words.index(word)\n",
    "        X[i,j] += 1\n",
    "print(X)\n",
    "np.matmul(X,scores)/np.sum(X,axis=1)"
   ]
  }
 ],
 "metadata": {
  "kernelspec": {
   "display_name": "Python 3",
   "language": "python",
   "name": "python3"
  },
  "language_info": {
   "codemirror_mode": {
    "name": "ipython",
    "version": 3
   },
   "file_extension": ".py",
   "mimetype": "text/x-python",
   "name": "python",
   "nbconvert_exporter": "python",
   "pygments_lexer": "ipython3",
   "version": "3.8.8"
  }
 },
 "nbformat": 4,
 "nbformat_minor": 5
}
