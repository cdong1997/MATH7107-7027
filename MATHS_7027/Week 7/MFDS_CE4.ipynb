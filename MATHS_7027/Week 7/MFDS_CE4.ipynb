{
 "cells": [
  {
   "cell_type": "markdown",
   "metadata": {},
   "source": [
    "\n",
    "# MATHS7027 Mathematical Foundations of Data Science\n",
    "## Computer Exercise 4\n",
    "In this computer exercise, we will learn how to use `numpy` to do linear algebra, and show some applications.\n",
    "## Part 1: Getting Started with Matrices in `numpy`\n",
    "To start, let's solve a typical linear algebra problem.\n",
    "\n",
    "We want to solve:\n",
    "$$\n",
    "\\begin{align*}\n",
    "2x + y - z = & 2\\\\\n",
    "x + 3y +2z = & 1\\\\\n",
    "x + y + z = & 2.\n",
    "\\end{align*}\n",
    "$$\n",
    "\n",
    "We can write this system in the compact matrix form $$A\\boldsymbol{x} = \\boldsymbol{b},$$ where  \n",
    "$$A = \\begin{bmatrix}2 & 1 & -1 \\\\ 1 & 3 & 2\\\\ 1 & 1 & 1\\end{bmatrix}, \\quad \\boldsymbol{b} = \n",
    "\\begin{bmatrix}2 \\\\ 1 \\\\ 2\\end{bmatrix}, \\quad \\text{and} \\quad \\boldsymbol{x} = \\begin{bmatrix}x \\\\ y \\\\ z\\end{bmatrix}.$$\n",
    "\n",
    "We can define $A$ and $\\boldsymbol{b}$ in `numpy` as follows:"
   ]
  },
  {
   "cell_type": "code",
   "execution_count": 19,
   "metadata": {
    "ExecuteTime": {
     "end_time": "2019-08-27T01:57:29.607839Z",
     "start_time": "2019-08-27T01:57:29.301550Z"
    }
   },
   "outputs": [
    {
     "name": "stdout",
     "output_type": "stream",
     "text": [
      "[[ 2  1 -1]\n",
      " [ 1  3  2]\n",
      " [ 1  1  1]]\n",
      "[2 1 2]\n"
     ]
    }
   ],
   "source": [
    "import numpy as np\n",
    "\n",
    "A = np.array([[2,1,-1], [1,3,2], [1,1,1]])\n",
    "b = np.array([2,1,2])\n",
    "\n",
    "print(A)\n",
    "print(b)"
   ]
  },
  {
   "cell_type": "markdown",
   "metadata": {},
   "source": [
    "$A$ is a *list of lists*, and wrapping `np.array()` around $A$ and $\\boldsymbol{b}$ allows us to use `numpy` functions on them. For example, find out the order of $\\boldsymbol{b}$ by appending `.shape` to the end of `b`:"
   ]
  },
  {
   "cell_type": "code",
   "execution_count": 3,
   "metadata": {
    "ExecuteTime": {
     "end_time": "2019-08-27T01:57:45.816399Z",
     "start_time": "2019-08-27T01:57:45.806344Z"
    }
   },
   "outputs": [
    {
     "data": {
      "text/plain": [
       "(3,)"
      ]
     },
     "execution_count": 3,
     "metadata": {},
     "output_type": "execute_result"
    }
   ],
   "source": [
    "# try using .shape here\n",
    "\n",
    "b.shape"
   ]
  },
  {
   "cell_type": "markdown",
   "metadata": {},
   "source": [
    "This means that `b` has 3 rows and one column. By default, `numpy` stores vectors as *column vectors* (not row vectors).\n",
    "\n",
    "Find the shapes of the different vectors below:"
   ]
  },
  {
   "cell_type": "code",
   "execution_count": 6,
   "metadata": {},
   "outputs": [
    {
     "name": "stdout",
     "output_type": "stream",
     "text": [
      "(3,)\n",
      "(1, 3)\n"
     ]
    }
   ],
   "source": [
    "c = np.array([1,2,3])\n",
    "d = np.array([[1,2,3]])\n",
    "\n",
    "# find the shapes of the vectors c and d\n",
    "\n",
    "print(c.shape)\n",
    "print(d.shape)"
   ]
  },
  {
   "cell_type": "markdown",
   "metadata": {},
   "source": [
    "Notice the difference between how `numpy` defines column vectors and row vectors.\n",
    "\n",
    "Now, let's do a bit more with matrices in numpy. Try the following exercise:\n",
    "- Define the following matrices with `numpy`:\n",
    "$$X = \\begin{bmatrix}1 & 6 \\\\ 3 & -1\\end{bmatrix}, \\quad Y = \\begin{bmatrix}1 & 1 & 1 \\\\ 1 & -2 & 0\\end{bmatrix}, \\quad Z = \\begin{bmatrix}2 & 3 & 1 \\\\ 0 & 1 & -2\\end{bmatrix}$$\n",
    "- Where possible, find the following (where the matrix operation is not possible, pay close attention to the result/output `numpy` gives you):\n",
    "$$X + Y; \\quad Y + Z; \\quad Y - Z$$"
   ]
  },
  {
   "cell_type": "code",
   "execution_count": 12,
   "metadata": {
    "ExecuteTime": {
     "end_time": "2019-08-27T01:58:13.048746Z",
     "start_time": "2019-08-27T01:58:13.041985Z"
    }
   },
   "outputs": [
    {
     "data": {
      "text/plain": [
       "array([[-1, -2,  0],\n",
       "       [ 1, -3,  2]])"
      ]
     },
     "execution_count": 12,
     "metadata": {},
     "output_type": "execute_result"
    }
   ],
   "source": [
    "# define the matrices X, Y, and Z\n",
    "X = np.array([[1,6],\n",
    "              [3,-1]])\n",
    "\n",
    "Y = np.array([[1,1,1],\n",
    "              [1,-2,0]])\n",
    "\n",
    "Z = np.array([[2,3,1],\n",
    "              [-0,1,-2]])\n",
    "\n",
    "# try X + Y, Y + Z, and Y - Z here\n",
    "X + Y\n",
    "Y + Z\n",
    "Y - Z"
   ]
  },
  {
   "cell_type": "markdown",
   "metadata": {},
   "source": [
    "`np.matmul()` does [matrix multiplication](https://docs.scipy.org/doc/numpy/reference/generated/numpy.matmul.html#numpy.matmul), and `.T` takes the [matrix transpose](https://docs.scipy.org/doc/numpy/reference/generated/numpy.transpose.html). Look at the syntax for each operation, then find the following where possible (again, where the matrix operation is not possible, pay close attention to the error message):\n",
    "- $XY$\n",
    "- $ZX$\n",
    "- $Z^TX$\n",
    "- Confirm that $\\boldsymbol{x} = (2,-1,1)$ is a solution of $A\\boldsymbol{x} = \\boldsymbol{b}$ from the top of the page."
   ]
  },
  {
   "cell_type": "code",
   "execution_count": 31,
   "metadata": {},
   "outputs": [
    {
     "data": {
      "text/plain": [
       "0"
      ]
     },
     "execution_count": 31,
     "metadata": {},
     "output_type": "execute_result"
    }
   ],
   "source": [
    "# try X.Y, Z.X, and Z^T.X\n",
    "XY = np.matmul(X,Y)\n",
    "# ZX = np.matmul(Z,X) Can't calculate\n",
    "Z_TX = np.matmul(Z.transpose(),X)\n",
    "Z_TX\n",
    "# check that (2,-1,1) is a solution of Ax = b\n",
    "x = np.array([2,-1,1])\n",
    "np.matmul(A,x) == b\n",
    "\n",
    "\n",
    "list(np.linalg.solve(A,b) == x).count(False)"
   ]
  },
  {
   "cell_type": "markdown",
   "metadata": {},
   "source": [
    "## Part 2: Linear Regression\n",
    "Let's take what we've just learned and use it to perform a linear regression.\n",
    "\n",
    "In an Australian Federal Election, some votes do not count because they are informal (meaning they do not follow the requirements for a correct vote). Australia uses ranked-choice voting, so voters must put a number next to each candidate listed on their ballot paper. If there are five candidates, but a voter only puts a number next three candidates, their vote may be treated as informal.\n",
    "\n",
    "Suppose we want to construct a (linear) model to predict the informal vote rate based on how many candidates are running in an electorate. Our hypothesis is that if a ballot paper contains more candidates then there may be more informal votes.\n",
    "\n",
    "The data below shows the informal vote rate and number of candidates in each electorate in South Australia, for the 2019 Australian Federal Election (source here: https://results.aec.gov.au/24310/Website/HouseDivisionalResults-24310.htm)\n",
    "\n",
    "| Electorate | Informal Rate |Candidates |\n",
    "| --- | --- | --- |\n",
    "|Adelaide | 3.70 | 6 |\n",
    "| Barker| 5.57 | 7 |\n",
    "| Boothby| 4.70| 8 |\n",
    "| Grey | 6.91 | 8| \n",
    "| Hindmarsh | 4.32 |6 |\n",
    "| Kingston | 4.11 | 5 | \n",
    "| Makin | 4.49 | 5 | \n",
    "| Mayo | 3.05 | 6 |\n",
    "| Spence | 5.98 | 6 | \n",
    "| Sturt | 5.37 | 8 | \n",
    "\n",
    "Let's start by converting this into a design matrix and a response variable vector. If that sentence doesn't make a lot of sense, you should review the **[course material about linear regression](https://myuni.adelaide.edu.au/courses/81010/pages/week-6-matrices-in-linear-regression)**."
   ]
  },
  {
   "cell_type": "code",
   "execution_count": 46,
   "metadata": {},
   "outputs": [],
   "source": [
    "X = np.array([[1, 6], \n",
    "              [1, 7], \n",
    "              [1, 8],\n",
    "              [1, 8],\n",
    "              [1, 6],\n",
    "              [1, 5], \n",
    "              [1, 5], \n",
    "              [1, 6],\n",
    "              [1, 6],\n",
    "              [1, 8],])\n",
    "\n",
    "y = np.array([3.70,5.57,4.70,6.91,4.32,4.11,4.49,3.05,5.98,5.37])"
   ]
  },
  {
   "cell_type": "markdown",
   "metadata": {},
   "source": [
    "Why is there a column of 1's in our design matrix? Remember, the linear regression model is $y_{i} = \\beta_{0} + \\beta_{1}x_{i} + \\epsilon_{i}$. Without the column of 1's, we wouldn't have a $\\beta_{0}$ term in our model.\n",
    "\n",
    "Now, here comes the fun part - let's fit the linear regression! Use the equation below to find our regression coefficents, $\\hat{\\boldsymbol{\\beta}}$. You might need to do some Googling, or review the numpy documentation, to figure out how to find the inverse of a matrix using `numpy`.\n",
    "\n",
    "$$\\hat{\\boldsymbol{\\beta}}=\\left(X^{T} X\\right)^{-1} X^{T} \\boldsymbol{y}$$"
   ]
  },
  {
   "cell_type": "code",
   "execution_count": 49,
   "metadata": {},
   "outputs": [
    {
     "name": "stdout",
     "output_type": "stream",
     "text": [
      "[1.2684 0.5464]\n",
      "[1.2684000000000006, 0.5463999999999998]\n"
     ]
    }
   ],
   "source": [
    "# try to calculate beta-hat here\n",
    "M = np.linalg.inv(np.matmul(X.transpose(),X))\n",
    "N = np.matmul(X.transpose(),y)\n",
    "beta = np.matmul(M,N)\n",
    "beta\n",
    "\n",
    "\n",
    "from sklearn.linear_model import LinearRegression\n",
    "\n",
    "reg = LinearRegression()\n",
    "\n",
    "reg.fit(X, y)\n",
    "coef = reg.coef_\n",
    "intercept = reg.intercept_\n",
    "print(beta)\n",
    "print([intercept,coef[1]])"
   ]
  },
  {
   "cell_type": "markdown",
   "metadata": {},
   "source": [
    "These are the coefficients of the linear regression. They describe the relationship between our variables! This is a formula $y = \\hat{\\beta}_{0} + \\hat{\\beta}_{1}x$, where $x$ is the number of candidates and $y$ is the informal voting rate.\n",
    "\n",
    "We can compare the values our model predicts with the actual/observed values by calculating $X\\hat{\\boldsymbol{\\beta}}$ and comparing it to $\\mathbf{y}$. We might want to compare these side-by-side, and also look at their difference. We can do this by putting the columns together into an array using `np.c_`, which collects together columns into an array. For example, `np.c_[a,b,c]` would create an array with column vectors `a`, `b`, and `c` as its columns.\n",
    "\n",
    "Make an array with $X\\hat{\\boldsymbol{\\beta}}$, $y$, and their difference as columns, so you can directly compare your model with the real data."
   ]
  },
  {
   "cell_type": "code",
   "execution_count": null,
   "metadata": {},
   "outputs": [],
   "source": [
    "# try making an array that includes your model output, the real data, and their\n",
    "# difference as columns\n",
    "\n"
   ]
  },
  {
   "cell_type": "markdown",
   "metadata": {},
   "source": [
    "## Part 3: Linear Regression with Multiple Variables\n",
    "We might be able to improve our model if we incorporate some other factors. Some socio-economic data might be relevant; electorate-level data is available here: https://www.ausstats.abs.gov.au/ausstats/subscriber.nsf/0/DE95D3A11C2436F9CA2583AF0071AB19/$File/south%20australia%20profiles.pdf\n",
    "\n",
    "Let's include the proportion of people within each electorate who are recent migrants (as they may be less familiar with Australia's voting system), and the proportion with year 12 (finished high school) or equivalent education.\n",
    "\n",
    "| Electorate | Informal Rate | Candidates | Migrants | Education\n",
    "| --- | --- | --- | --- | --- | \n",
    "|Adelaide | 3.70 |  6 | 17.6 | 82.4 |\n",
    "| Barker| 5.57 |  7 | 3.2 | 57.9 | \n",
    "| Boothby| 4.70|  8 | 9.8 | 82.8 | \n",
    "| Grey | 6.91 |  8 | 1.9 | 53.5 | \n",
    "| Hindmarsh | 4.32 | 6 | 8.4 | 76.7 | \n",
    "| Kingston | 4.11 |  5 |6.2| 69.1 | \n",
    "| Makin | 4.49 |  5 | 9.0 | 73.1 | \n",
    "| Mayo | 3.05 |  6 | 3.1 | 70.8 | \n",
    "| Spence | 5.98 |  6 |  7.2 | 58.1 | \n",
    "| Sturt | 5.37 |  8 | 12.7 | 85.3 |\n",
    "\n",
    "We can now use exactly the same approach as before; we just need to add in more columns to our matrix:"
   ]
  },
  {
   "cell_type": "code",
   "execution_count": 51,
   "metadata": {},
   "outputs": [
    {
     "data": {
      "text/plain": [
       "array([ 7.20554166,  0.6064278 ,  0.12159395, -0.10270721])"
      ]
     },
     "execution_count": 51,
     "metadata": {},
     "output_type": "execute_result"
    }
   ],
   "source": [
    "X2 = np.array([[1, 6, 17.6, 82.4], \n",
    "              [1, 7, 3.2, 57.9], \n",
    "              [1, 8, 9.8, 82.8],\n",
    "              [1, 8, 1.9, 53.5],\n",
    "              [1, 6, 8.4, 76.7],\n",
    "              [1, 5, 6.2, 69.1], \n",
    "              [1, 5, 9.0, 73.1], \n",
    "              [1, 6, 3.1, 70.8],\n",
    "              [1, 6, 7.2, 58.1],\n",
    "              [1, 8, 12.7, 85.3]])\n",
    "\n",
    "y2 = np.array([3.70,5.57,4.70,6.91,4.32,4.11,4.49,3.05,5.98,5.37])\n",
    "\n",
    "# try to calculate the estimate of our model co-efficients (beta-hat) using the\n",
    "# new data\n",
    "M = np.linalg.inv(np.matmul(X2.transpose(),X2))\n",
    "N = np.matmul(X2.transpose(),y2)\n",
    "beta = np.matmul(M,N)\n",
    "beta\n"
   ]
  },
  {
   "cell_type": "markdown",
   "metadata": {},
   "source": [
    "Next, you can see if the new model performs better than our old model did:"
   ]
  },
  {
   "cell_type": "code",
   "execution_count": null,
   "metadata": {},
   "outputs": [],
   "source": [
    "# create an array showing the model output, actual data, and difference\n",
    "\n"
   ]
  },
  {
   "cell_type": "markdown",
   "metadata": {},
   "source": [
    "We could also test our model on some electorates from other states. \n",
    "\n",
    "Here are a few electorates I have chosen from around Australia:\n",
    "\n",
    "| Electorate | Informal Rate | Candidates | Migrants | Education\n",
    "| --- | --- | --- | --- | --- | \n",
    "| Aston | 3.68| 5 | 8.8 | 79.7 |\n",
    "| Ballarat | 4.37 | 7 | 3.0 | 68.6 | \n",
    "| Banks | 7.20 | 6 | 12.8 | 83.4 | \n",
    "| Barton | 9.53 | 6 | 19.2 | 83.9 |\n",
    "\n",
    "We want to use the $\\hat{\\boldsymbol{\\beta}}$ that we obtained from the South Australian data and test how well it predicts the informal voting rate for these new electorates:"
   ]
  },
  {
   "cell_type": "code",
   "execution_count": null,
   "metadata": {},
   "outputs": [],
   "source": [
    "# test our model on the new data here\n",
    "\n"
   ]
  },
  {
   "cell_type": "markdown",
   "metadata": {},
   "source": [
    "Describe your findings here:\n",
    "\n",
    "...\n",
    "\n",
    "One last thing to note. In practice, there are packages for performing linear regression in Python. Furthermore, there are all sorts of statistical tools for determining how well a model matches the data, and which variables best predict behaviour, but this goes well beyond the topic at hand, which is simply an application of matrices."
   ]
  }
 ],
 "metadata": {
  "kernelspec": {
   "display_name": "Python 3 (ipykernel)",
   "language": "python",
   "name": "python3"
  },
  "language_info": {
   "codemirror_mode": {
    "name": "ipython",
    "version": 3
   },
   "file_extension": ".py",
   "mimetype": "text/x-python",
   "name": "python",
   "nbconvert_exporter": "python",
   "pygments_lexer": "ipython3",
   "version": "3.10.6"
  }
 },
 "nbformat": 4,
 "nbformat_minor": 4
}
