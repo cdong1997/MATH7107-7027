{
 "cells": [
  {
   "cell_type": "markdown",
   "metadata": {},
   "source": [
    "# <font face = \"Times New Roman\"><center>  Mathematical Foundations of Data Science </center> <center>Assignment 4</center> </font>\n",
    "#### <font face = \"Times New Roman\"> <p align=\"right\">Trimester 1, 2023 <br><br> Chang Dong (a1807402)</p> </font>"
   ]
  },
  {
   "cell_type": "markdown",
   "metadata": {},
   "source": [
    "<p style=\"line-height: 2\">\n",
    "<font size = 2px face = \"Times New Roman\">\n",
    "<i>\n",
    "Note: $E_{ij}(k)$ is the math symbol refers to Elememtary Row Transformation.\n",
    "\n",
    "$E_{ij}$: Exchange two rows.<br>\n",
    "$E_i(k)$: Let row $i$ times $k$.<br>\n",
    "$E_{ij}(k)$: Let $k$ times row $j$ add to row $i$.\n",
    "</i>    \n"
   ]
  },
  {
   "cell_type": "markdown",
   "metadata": {},
   "source": [
    "**<p style=\"line-height: 1.5\">\n",
    "<font size = 4px face = \"Times New Roman\">1. A sports team plays in a competition that awards 3 points for a win,\n",
    "1 point for a draw, and 0 points for a loss. For every draw, players\n",
    "are allocated 3 hours of extra training. For every loss, players are\n",
    "allocated 5 hours of extra training. At the end of the season, the team\n",
    "has 73 points, and has won four times as many games as they have\n",
    "lost. Its players were allocated 64 hours of extra training. Formulate\n",
    "a system of equations that would be used to calculate the number of\n",
    "wins, draws, and losses the team had during the season. Express your\n",
    "answer in matrix form $Ax = b$, clearly defining $A$, $x$, and $b$. Note,\n",
    "this question involves formulation only. You do not need to solve the\n",
    "system of equations.</font></p>**"
   ]
  },
  {
   "cell_type": "markdown",
   "metadata": {},
   "source": [
    "<p style=\"line-height: 2\">\n",
    "<font size = 4px face = \"Times New Roman\">\n",
    "<i>Answer:</i><br>\n",
    "In this context, $x_1$ represents the number of wins, $x_2$ denotes the number of draws, and $x_3$ corresponds to the number of losses.<br>\n",
    "At the end of the season, the team has 73 points:<br>\n",
    "$3 · x_1 + 1 · x_2 + 0 · x_3 = 73$<br>\n",
    "has won four times as many games as they have lost:<br>\n",
    "$x_1 = 4 · x_3$<br>\n",
    "and its players were allocated 64 hours of extra training:<br>\n",
    "$3 · x_2 + 5 · x_3 = 64$<br>\n",
    "    \n",
    "So:<br><br>\n",
    "$Ax = b$  \n",
    "<p style=\"line-height: 5\">\n",
    "$\\iff \\begin{bmatrix}3&1&0\\\\1&0&-4\\\\0&3&5\\end{bmatrix} · \\begin{bmatrix}x_1\\\\x_2\\\\x_3\\end{bmatrix} =  \\begin{bmatrix}73\\\\0\\\\64\\end{bmatrix}$<br>\n",
    "$where \\ A = \\begin{bmatrix}3&1&0\\\\1&0&-4\\\\0&3&5\\end{bmatrix}$ $,\\ $ $x = \\begin{bmatrix}x_1\\\\x_2\\\\x_3\\end{bmatrix}$ $,\\ $ $b = \\begin{bmatrix}73\\\\0\\\\64\\end{bmatrix}$\n",
    "</p>\n",
    "</font></p>"
   ]
  },
  {
   "cell_type": "markdown",
   "metadata": {},
   "source": [
    "**<p style=\"line-height: 1.5\">\n",
    "<font size = 4px face = \"Times New Roman\">\n",
    "2. Consider the following system of linear equations, in the variables $x$,\n",
    "$y$, and $z$, with some unknown parameter $\\delta$.\n",
    "</font></p>**"
   ]
  },
  {
   "cell_type": "markdown",
   "metadata": {},
   "source": [
    "<p style=\"line-height: 1.5\">\n",
    "<font size = 4px face = \"Times New Roman\">\n",
    "$$x + 2y = 6$$\n",
    "$$x + \\delta y = 5$$\n",
    "$$y + \\delta z = 4$$\n",
    "</font></p>"
   ]
  },
  {
   "cell_type": "markdown",
   "metadata": {},
   "source": [
    "<p style=\"line-height: 1.5\">\n",
    "<font size = 4px face = \"Times New Roman\">\n",
    "(a) Write this system in matrix form $Ax = b$, clearly defining $A$, $x$,\n",
    "and b.\n",
    "</font></p>"
   ]
  },
  {
   "cell_type": "markdown",
   "metadata": {},
   "source": [
    "<p style=\"line-height: 2\">\n",
    "<font size = 4px face = \"Times New Roman\">\n",
    "<i>Answer:<i><br>\n",
    "$Ax = b$  \n",
    "<p style=\"line-height: 5\">\n",
    "$\\iff \\begin{bmatrix}1&2&0\\\\1&\\delta&0\\\\0&1&\\delta\\end{bmatrix} · \\begin{bmatrix}x\\\\y\\\\z\\end{bmatrix} =  \\begin{bmatrix}6\\\\5\\\\4\\end{bmatrix}$<br>\n",
    "$where \\ A = \\begin{bmatrix}1&2&0\\\\1&\\delta&0\\\\0&1&\\delta\\end{bmatrix}$ $,\\ $ $x = \\begin{bmatrix}x\\\\y\\\\z\\end{bmatrix}$ $,\\ $ $b = \\begin{bmatrix}6\\\\5\\\\4\\end{bmatrix}$ </p>\n",
    "</font></p>"
   ]
  },
  {
   "cell_type": "markdown",
   "metadata": {},
   "source": [
    "<p style=\"line-height: 1.5\">\n",
    "<font size = 4px face = \"Times New Roman\">\n",
    "(b) Using matrix determinants, find the values of $\\delta$ for which this\n",
    "system of equations has no solution.\n",
    "</font></p>"
   ]
  },
  {
   "cell_type": "markdown",
   "metadata": {},
   "source": [
    "<p style=\"line-height: 2\">\n",
    "<font size = 4px face = \"Times New Roman\">\n",
    "<i>Answer:</i><br>\n",
    "If $|A| \\ne 0$, Ax = b should have one specific solution.<br>\n",
    "If $|A| = 0$, Ax = b can have two possible cases:<br>\n",
    "Case 1: have no solution;<br>\n",
    "Case 2: have infinite solution.<br> \n",
    "<p style=\"line-height: 4\">\n",
    "$|A| = \\begin{vmatrix}1&2&0\\\\1&\\delta&0\\\\0&1&\\delta\\end{vmatrix} = \n",
    "1 ·\\begin{vmatrix}\\delta&0\\\\1&\\delta\\end{vmatrix} \n",
    "-2 · \\begin{vmatrix}1&0\\\\0&\\delta\\end{vmatrix} = \\delta ^ 2 -2 \\delta = \n",
    "\\delta ( \\delta -2) = 0$\n",
    "</p><br>\n",
    "    \n",
    "In this case:\n",
    "$\\delta = 0\\ or\\ 2$\n",
    "<p style=\"line-height: 2\">\n",
    "when $\\delta = 0$<br>\n",
    "$x + 2y = 6$,\n",
    "$x = 5$,\n",
    "$y = 4$\n",
    "    \n",
    "These three equations can not be true at the same time($x + 2y = 6 \\ne 13$), system has no solution. So $\\delta$ can be 0.(Case 1)\n",
    "<p style=\"line-height: 2\">    \n",
    "when $\\delta = 2$<br>\n",
    "$x + 2y = 6$,\n",
    "$x + 2y = 5$,\n",
    "$y + 2z = 4$\n",
    "    \n",
    "These three equations can not be true at the same time($x + 2y = 6 \\ne 5$), system has no solution. So $\\delta$ can be 2.(Case 1)\n",
    "</font></p>"
   ]
  },
  {
   "cell_type": "markdown",
   "metadata": {},
   "source": [
    "<p style=\"line-height: 1.5\">\n",
    "<font size = 4px face = \"Times New Roman\">\n",
    "(c) If there is a solution with $z = 0$, what are the possible values of\n",
    "$\\delta$?\n",
    "</font></p>"
   ]
  },
  {
   "cell_type": "markdown",
   "metadata": {},
   "source": [
    "<p style=\"line-height: 2\">\n",
    "<font size = 4px face = \"Times New Roman\">\n",
    "<i>Answer:</i><br>\n",
    "To solve that in which case this system of equations has no solution, we can expand the matrix into the form:<br>\n",
    "<p style=\"line-height: 5\">$[A|b] = \n",
    "\\left[\n",
    "\\begin{array}{ccc|c}\n",
    "  1&2&0&6 \\\\\n",
    "  1&\\delta&0&5\\\\\n",
    "  0&1&\\delta&4\n",
    "\\end{array}\n",
    "\\right]\n",
    "$ $\\ \\xrightarrow{E_{21}(-1)}\\ $ $\n",
    "\\left[\n",
    "\\begin{array}{ccc|c}\n",
    "  1&2&0&6 \\\\\n",
    "  0&\\delta-2&0&-1\\\\\n",
    "  0&1&\\delta&4\n",
    "\\end{array}\n",
    "\\right]\n",
    "$ $\\ \\xrightarrow{E_{2}(\\frac{1}{\\delta-2})(Assume\\ \\delta \\ne 2)}\\ $\n",
    "\n",
    "$\n",
    "\\left[\n",
    "\\begin{array}{ccc|c}\n",
    "  1&2&0&6 \\\\\n",
    "  0&1&0&-\\frac{1}{\\delta-2}\\\\\n",
    "  0&1&\\delta&4\n",
    "\\end{array}\n",
    "\\right]\n",
    "$ $\\ \\xrightarrow{E_{32}(-1)}\\ $ $\n",
    "\\left[\n",
    "\\begin{array}{ccc|c}\n",
    "  1&2&0&6 \\\\\n",
    "  0&1&0&-\\frac{1}{\\delta-2}\\\\\n",
    "  0&0&\\delta&4+\\frac{1}{\\delta-2}\n",
    "\\end{array}\n",
    "\\right]\n",
    "$ </p>\n",
    "\n",
    "<font size = 4px face = \"Times New Roman\">\n",
    "According the the question, we have: $\\delta · z = \\delta · 0 = 4+\\frac{1}{\\delta−2}$\n",
    "\n",
    "So: $\\delta = \\frac{7}{4}\\ \\ $($\\delta \\ne 2$, assumption is true)\n",
    "</font>"
   ]
  },
  {
   "cell_type": "markdown",
   "metadata": {},
   "source": [
    "<p style=\"line-height: 1.5\">\n",
    "<font size = 4px face = \"Times New Roman\">\n",
    "(d) Can the system of equations have a solution if $y = 0$? Justify\n",
    "your answer.\n",
    "</font></p>"
   ]
  },
  {
   "cell_type": "markdown",
   "metadata": {},
   "source": [
    "<font size = 4px face = \"Times New Roman\">\n",
    "<p style=\"line-height: 5\">\n",
    "<i>Answer:</i><br>\n",
    "$[A|b] \n",
    "$ $\\ \\xrightarrow{E_{21}(-1) }\\ $ $\n",
    "\\left[\n",
    "\\begin{array}{ccc|c}\n",
    "  1&2&0&6 \\\\\n",
    "  0&\\delta-2&0&-1\\\\\n",
    "  0&1&\\delta&4\n",
    "\\end{array}\n",
    "\\right]    \n",
    "$   \n",
    "</p>\n",
    "<p style=\"line-height: 2\">\n",
    "According the the question, we should let: $(\\delta-2) · y = (\\delta-2)·0 = -1$<br>\n",
    "\n",
    "While $ (\\delta-2)·0 = 0 \\ne -1( \\forall\\ \\delta\\ \\in\\ R) $, so the system of equations have no solution if $y = 0$ \n",
    "</p>\n",
    "</font>"
   ]
  },
  {
   "cell_type": "markdown",
   "metadata": {},
   "source": [
    "**<p style=\"line-height: 1.5\">\n",
    "<font size = 4px face = \"Times New Roman\">\n",
    "3. Consider the following augmented matrix $[A|b]$:\n",
    "</font></p>**"
   ]
  },
  {
   "cell_type": "markdown",
   "metadata": {},
   "source": [
    "**<p style=\"line-height: 1.5\">\n",
    "<font size = 4px face = \"Times New Roman\">\n",
    "$$\n",
    "\\left[\n",
    "\\begin{array}{cccc|c}\n",
    "  1&1&1&2&2 \\\\\n",
    "  1&1&-1&2&-2\\\\\n",
    "  0&0&1&1&5\n",
    "\\end{array}\n",
    "\\right]\n",
    "$$\n",
    "</font></p>**"
   ]
  },
  {
   "cell_type": "markdown",
   "metadata": {},
   "source": [
    "**<p style=\"line-height: 1.5\">\n",
    "<font size = 4px face = \"Times New Roman\">Using elementary row operations, reduce this matrix to reduced row\n",
    "echelon form and determine the set of solutions corresponding to the\n",
    "system of linear equations $Ax = b$, where $x = \\begin{bmatrix}w\\\\x\\\\y\\\\z\\end{bmatrix}$. You must show\n",
    "all working, including stating the row operations that you use.\n",
    "</font></p>**"
   ]
  },
  {
   "cell_type": "markdown",
   "metadata": {},
   "source": [
    "<font size = 4px face = \"Times New Roman\">\n",
    "<p style=\"line-height: 1.5\">\n",
    "<i>Answer:</i><br>\n",
    "</p>\n",
    "<p style=\"line-height: 4\">\n",
    "$ [A|b] = \n",
    "\\left[\n",
    "\\begin{array}{cccc|c}\n",
    "  1&1&1&2&2 \\\\\n",
    "  1&1&-1&2&-2\\\\\n",
    "  0&0&1&1&5\n",
    "\\end{array}\n",
    "\\right]\n",
    "$ $\\xrightarrow{E_{21}(-1)}$\n",
    "$\n",
    "\\left[\n",
    "\\begin{array}{cccc|c}\n",
    "  1&1&1&2&2 \\\\\n",
    "  0&0&-2&0&-4\\\\\n",
    "  0&0&1&1&5\n",
    "\\end{array}\n",
    "\\right]\n",
    "$ \n",
    "\n",
    "$\\xrightarrow{E_{2}(-\\frac{1}{2})}$\n",
    "$\n",
    "\\left[\n",
    "\\begin{array}{cccc|c}\n",
    "  1&1&1&2&2 \\\\\n",
    "  0&0&1&0&2\\\\\n",
    "  0&0&1&1&5\n",
    "\\end{array}\n",
    "\\right]\n",
    "$ $\\xrightarrow{E_{12}(-1)}$\n",
    "$\n",
    "\\left[\n",
    "\\begin{array}{cccc|c}\n",
    "  1&1&0&2&0 \\\\\n",
    "  0&0&1&0&2\\\\\n",
    "  0&0&1&1&5\n",
    "\\end{array}\n",
    "\\right]\n",
    "$ \n",
    "    \n",
    "$\\xrightarrow{E_{32}(-1)}$\n",
    "$\n",
    "\\left[\n",
    "\\begin{array}{cccc|c}\n",
    "  1&1&0&2&0 \\\\\n",
    "  0&0&1&0&2\\\\\n",
    "  0&0&0&1&3\n",
    "\\end{array}\n",
    "\\right]\n",
    "$ $\\xrightarrow{E_{13}(-2)}$\n",
    "$\n",
    "\\left[\n",
    "\\begin{array}{cccc|c}\n",
    "  1&1&0&0&-6 \\\\\n",
    "  0&0&1&0&2\\\\\n",
    "  0&0&0&1&3\n",
    "\\end{array}\n",
    "\\right]\n",
    "$ \n",
    "</p>\n",
    "<p style=\"line-height: 1.5\">\n",
    "So:<br>\n",
    "$z = 3$<br>\n",
    "$y = 2$<br>\n",
    "$w+x = -6$,\n",
    "\n",
    "let $w = t$, then we have $x = -6-t$ ($\\forall\\ t \\in R$)\n",
    "    \n",
    "The solution set is <b>$x = [w,x,y,z]^T =  [t,-6-t,2,3]^T$  ($\\forall\\ t \\in R$)</b>\n",
    "</p>\n",
    "</font>"
   ]
  },
  {
   "cell_type": "markdown",
   "metadata": {},
   "source": [
    "# MATHS7027 Mathematical Foundations of Data Science\n",
    "## Assignment 4 - Question 4\n",
    "In this question, we will explore some properties of the transpose and the inverse of a matrix using `numpy`.\n",
    "\n",
    "First, we need to import `numpy`."
   ]
  },
  {
   "cell_type": "code",
   "execution_count": 1,
   "metadata": {},
   "outputs": [],
   "source": [
    "import numpy as np"
   ]
  },
  {
   "cell_type": "markdown",
   "metadata": {},
   "source": [
    "## 4(a)\n",
    "We can use `numpy` to generate random numbers with the function `np.random.rand()` (to read about this function, [click here](https://numpy.org/doc/stable/reference/random/generated/numpy.random.rand.html)).\n",
    "\n",
    "Use `np.random.rand()` to generate a random $4 \\times 4$ matrix, $A$."
   ]
  },
  {
   "cell_type": "code",
   "execution_count": 36,
   "metadata": {},
   "outputs": [
    {
     "name": "stdout",
     "output_type": "stream",
     "text": [
      "[[0.44950705 0.10813919 0.49233686 0.19147725]\n",
      " [0.51854825 0.51374271 0.05151946 0.45871465]\n",
      " [0.84503145 0.40734015 0.34456353 0.59290289]\n",
      " [0.85739481 0.5454557  0.37002365 0.19048936]]\n"
     ]
    }
   ],
   "source": [
    "A_numbers = [np.random.rand() for i in range(16)]\n",
    "A = np.array(A_numbers).reshape(4,4)\n",
    "print(A)"
   ]
  },
  {
   "cell_type": "markdown",
   "metadata": {},
   "source": [
    "## 4(b)\n",
    "We can also use `numpy` to easily calculate matrix powers. Using `np.linalg.matrix_power(A,n)` will calculate the $n^{th}$ power of $A$ (read more about `np.linalg.matrix_power()` [here](https://numpy.org/doc/stable/reference/generated/numpy.linalg.matrix_power.html)).\n",
    "\n",
    "Calculate the tenth power of your randomly generated matrix, $A$, i.e., calculate $A^{10}$."
   ]
  },
  {
   "cell_type": "code",
   "execution_count": 37,
   "metadata": {},
   "outputs": [
    {
     "name": "stdout",
     "output_type": "stream",
     "text": [
      "[[45.39724443 24.77626148 24.9170542  23.9018814 ]\n",
      " [50.18706707 27.39038687 27.54602708 26.42374802]\n",
      " [74.42049762 40.61616149 40.84696094 39.18277264]\n",
      " [64.39191807 35.14290651 35.34260374 33.90267411]]\n"
     ]
    }
   ],
   "source": [
    "A_power_10 = np.linalg.matrix_power(A,n=10)\n",
    "print(A_power_10)"
   ]
  },
  {
   "cell_type": "markdown",
   "metadata": {},
   "source": [
    "## 4(c)\n",
    "An interesting property of matrices is that $(A^{n})^{T} = (A^{T})^{n}$.\n",
    "\n",
    "To test this, calculate the tenth power of the *transpose* of your matrix, $A$, and compare it to the transpose of the tenth power of your matrix, $A^{10}$."
   ]
  },
  {
   "cell_type": "code",
   "execution_count": 58,
   "metadata": {},
   "outputs": [
    {
     "name": "stdout",
     "output_type": "stream",
     "text": [
      "(A^10)^T = \n",
      " [[45.39724443 50.18706707 74.42049762 64.39191807]\n",
      " [24.77626148 27.39038687 40.61616149 35.14290651]\n",
      " [24.9170542  27.54602708 40.84696094 35.34260374]\n",
      " [23.9018814  26.42374802 39.18277264 33.90267411]] \n",
      "\n",
      "(A^T)^10 = \n",
      " [[45.39724443 50.18706707 74.42049762 64.39191807]\n",
      " [24.77626148 27.39038687 40.61616149 35.14290651]\n",
      " [24.9170542  27.54602708 40.84696094 35.34260374]\n",
      " [23.9018814  26.42374802 39.18277264 33.90267411]] \n",
      "\n"
     ]
    }
   ],
   "source": [
    "A_10_T = A_power_10.transpose()\n",
    "A_T_10 = np.linalg.matrix_power(A.transpose(), n= 10)\n",
    "\n",
    "print(\"(A^10)^T = \\n\",A_10_T,\"\\n\")\n",
    "print(\"(A^T)^10 = \\n\",A_T_10,\"\\n\")"
   ]
  },
  {
   "cell_type": "markdown",
   "metadata": {},
   "source": [
    "<font size = 4px face = \"Times New Roman\">\n",
    "<p style=\"line-height: 1.5\">\n",
    "By comparing them from the print result, we can prove $(A^{n})^{T} = (A^{T})^{n}$"
   ]
  },
  {
   "cell_type": "code",
   "execution_count": 51,
   "metadata": {},
   "outputs": [
    {
     "data": {
      "text/plain": [
       "array([[ True, False, False, False],\n",
       "       [False,  True, False, False],\n",
       "       [False,  True, False,  True],\n",
       "       [ True,  True,  True, False]])"
      ]
     },
     "execution_count": 51,
     "metadata": {},
     "output_type": "execute_result"
    }
   ],
   "source": [
    "A_10_T == A_T_10"
   ]
  },
  {
   "cell_type": "markdown",
   "metadata": {},
   "source": [
    "<font size = 4px face = \"Times New Roman\">\n",
    "If we use</font> `A_10_T == A_T_10`\n",
    "<font size = 4px face = \"Times New Roman\">we will not get $4 \\times 4$ \"True\" Matrix, because the computer can not store the all the decimals in a float value, so there will some precision loss during calculation.</font>"
   ]
  },
  {
   "cell_type": "code",
   "execution_count": 81,
   "metadata": {},
   "outputs": [
    {
     "data": {
      "text/plain": [
       "array([[ 0.00000000e+00, -2.13162821e-14, -1.42108547e-14,\n",
       "        -1.42108547e-14],\n",
       "       [-3.55271368e-15,  0.00000000e+00, -7.10542736e-15,\n",
       "        -7.10542736e-15],\n",
       "       [-7.10542736e-15,  0.00000000e+00, -7.10542736e-15,\n",
       "         0.00000000e+00],\n",
       "       [ 0.00000000e+00,  0.00000000e+00,  0.00000000e+00,\n",
       "        -7.10542736e-15]])"
      ]
     },
     "execution_count": 81,
     "metadata": {},
     "output_type": "execute_result"
    }
   ],
   "source": [
    "A_10_T - A_T_10"
   ]
  },
  {
   "cell_type": "markdown",
   "metadata": {},
   "source": [
    " <font size = 4px face = \"Times New Roman\">\n",
    " But we can calculate the</font> `A_10_T - A_T_10`,<font size = 4px face = \"Times New Roman\"> then we can get the subtractions are very small, acutually </font>`A_10_T` <font size = 4px face = \"Times New Roman\">and</font>  `A_T_10` <font size = 4px face = \"Times New Roman\">are identical.\n",
    "</font>"
   ]
  },
  {
   "cell_type": "markdown",
   "metadata": {},
   "source": [
    "## 4(d)\n",
    "Finally, we would like to see if the inverse of the transpose of a matrix is equal to the transpose of its inverse.\n",
    "\n",
    "Calculate the transpose of the inverse of your matrix, $(A^{-1})^{T}$, and check that it is the inverse of the transpose of your matrix by multiplying together $(A^{-1})^{T}$ and $A^{T}$.\n",
    "\n",
    "*Hint: There is a chance that your random matrix is not invertible. If this is the case, you can generate a new matrix by re-running the code in this notebook.*"
   ]
  },
  {
   "cell_type": "code",
   "execution_count": 79,
   "metadata": {},
   "outputs": [
    {
     "data": {
      "text/plain": [
       "array([[ 1.00000000e+00, -2.22044605e-16, -4.44089210e-16,\n",
       "         0.00000000e+00],\n",
       "       [-2.22044605e-16,  1.00000000e+00, -8.88178420e-16,\n",
       "        -4.44089210e-16],\n",
       "       [ 2.22044605e-16, -4.44089210e-16,  1.00000000e+00,\n",
       "         0.00000000e+00],\n",
       "       [-1.11022302e-16,  0.00000000e+00,  2.22044605e-16,\n",
       "         1.00000000e+00]])"
      ]
     },
     "execution_count": 79,
     "metadata": {},
     "output_type": "execute_result"
    }
   ],
   "source": [
    "A_T = A.transpose()\n",
    "A_T_inv = np.linalg.inv(A_T)\n",
    "A_inv = np.linalg.inv(A)\n",
    "A_inv_T = np.linalg.inv(A).transpose()\n",
    "\n",
    "np.matmul(A_inv_T, A_T)"
   ]
  },
  {
   "cell_type": "markdown",
   "metadata": {},
   "source": [
    "Do you notice anything strange about the output of your calculation?\n",
    "\n",
    "Think about the result you expect to see if you multiply a matrix by its inverse, and then think about the result you have obtained above. Is your result exactly the same as what you expected, or is it slightly different? What might explain the differences?"
   ]
  },
  {
   "cell_type": "markdown",
   "metadata": {},
   "source": [
    "<font size = 4px face = \"Times New Roman\">\n",
    "<p style=\"line-height: 1.5\">\n",
    "Computer have precision limit, it can not store all the decimals of float number, so we can not get a perfect matrix I.\n",
    "There are still some small non-zero values in non-diagnal line."
   ]
  },
  {
   "cell_type": "code",
   "execution_count": 80,
   "metadata": {},
   "outputs": [
    {
     "data": {
      "text/plain": [
       "array([[ 1., -0., -0.,  0.],\n",
       "       [-0.,  1., -0., -0.],\n",
       "       [ 0., -0.,  1.,  0.],\n",
       "       [-0.,  0.,  0.,  1.]])"
      ]
     },
     "execution_count": 80,
     "metadata": {},
     "output_type": "execute_result"
    }
   ],
   "source": [
    "np.matmul(A_inv_T, A_T).round(10)"
   ]
  },
  {
   "cell_type": "markdown",
   "metadata": {},
   "source": [
    "<font size = 4px face = \"Times New Roman\">\n",
    "We round to 10 decimals(a very high precission standard), we can get see a perfect diagonal I matrix. So actually </font>`A_inv_T == A_T_inv`"
   ]
  }
 ],
 "metadata": {
  "kernelspec": {
   "display_name": "Python 3",
   "language": "python",
   "name": "python3"
  },
  "language_info": {
   "codemirror_mode": {
    "name": "ipython",
    "version": 3
   },
   "file_extension": ".py",
   "mimetype": "text/x-python",
   "name": "python",
   "nbconvert_exporter": "python",
   "pygments_lexer": "ipython3",
   "version": "3.8.8"
  }
 },
 "nbformat": 4,
 "nbformat_minor": 4
}
